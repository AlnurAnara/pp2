{
 "cells": [
  {
   "cell_type": "markdown",
   "metadata": {},
   "source": [
    "## CSV -comma seperated values"
   ]
  },
  {
   "cell_type": "code",
   "execution_count": null,
   "metadata": {},
   "outputs": [],
   "source": [
    "#creat a csv file\n",
    "import csv\n",
    "with open('new_csv_file.csv','w') as file:\n",
    "    csv.writer(file)"
   ]
  },
  {
   "cell_type": "code",
   "execution_count": null,
   "metadata": {},
   "outputs": [],
   "source": [
    "#1d data--use writerow()\n",
    "import csv\n",
    "list_data=[1,2,3,4,5,6]\n",
    "with open('new_csv_file.csv','w') as file:\n",
    "    csv_writer=csv.writer(file)\n",
    "    csv_writer.writerow(list_data)"
   ]
  },
  {
   "cell_type": "code",
   "execution_count": null,
   "metadata": {},
   "outputs": [],
   "source": [
    "#2d data(with dictionary)--use writerows()\n",
    "import csv\n",
    "list_data=[['name','age','gender'],['Almas',30,'Male'],\n",
    "           ['Ayala',13,'Female']]\n",
    "\n",
    "with open('new_csv_file.csv','w') as file:\n",
    "    csv_writer=csv.writer(file)\n",
    "    csv_writer.writerows(list_data)"
   ]
  },
  {
   "cell_type": "code",
   "execution_count": 8,
   "metadata": {},
   "outputs": [
    {
     "name": "stdout",
     "output_type": "stream",
     "text": [
      "['name', 'age', 'gender']\n",
      "[]\n",
      "['Almas', '30', 'Male']\n",
      "[]\n",
      "['Ayala', '13', 'Female']\n",
      "[]\n"
     ]
    }
   ],
   "source": [
    "\n",
    "with open('new_csv_file.csv','r') as file2:\n",
    "    csv_reader = csv.reader(file2,delimiter=',')\n",
    "    for row in csv_reader:\n",
    "        print(row)"
   ]
  },
  {
   "cell_type": "code",
   "execution_count": null,
   "metadata": {},
   "outputs": [],
   "source": [
    "#add information\n",
    "import csv\n",
    "list_data=[['lussy',10,'Female'],\n",
    "           ['Bob',50,'Male']]\n",
    "with open('new_csv_file.csv','a') as file:\n",
    "    csv_writer=csv.writer(file)\n",
    "    csv_writer.writerows(list_data)"
   ]
  },
  {
   "cell_type": "code",
   "execution_count": null,
   "metadata": {},
   "outputs": [
    {
     "name": "stdout",
     "output_type": "stream",
     "text": [
      "CSV file written successfully!\n"
     ]
    }
   ],
   "source": [
    "\n",
    "import csv\n",
    "\n",
    "data = [\n",
    "    {\"Name\": \"Alice\", \"Age\": 30, \"City\": \"New York\"},\n",
    "    {\"Name\": \"Bob\", \"Age\": 25, \"City\": \"Los Angeles\"},\n",
    "    {\"Name\": \"Charlie\", \"Age\": 35, \"City\": \"Chicago\"}\n",
    "]\n",
    "\n",
    "# Writing to CSV\n",
    "with open(\"people_dict.csv\", mode=\"w\", newline=\"\") as file:\n",
    "    fieldnames = [\"Name\", \"Age\", \"City\"]#header\n",
    "    writer = csv.DictWriter(file, fieldnames=fieldnames)\n",
    "\n",
    "    writer.writeheader()  # Writing column names\n",
    "    writer.writerows(data)\n",
    "\n",
    "print(\"CSV file written successfully!\")\n",
    "\n"
   ]
  }
 ],
 "metadata": {
  "kernelspec": {
   "display_name": "Python 3",
   "language": "python",
   "name": "python3"
  },
  "language_info": {
   "codemirror_mode": {
    "name": "ipython",
    "version": 3
   },
   "file_extension": ".py",
   "mimetype": "text/x-python",
   "name": "python",
   "nbconvert_exporter": "python",
   "pygments_lexer": "ipython3",
   "version": "3.12.5"
  }
 },
 "nbformat": 4,
 "nbformat_minor": 2
}
