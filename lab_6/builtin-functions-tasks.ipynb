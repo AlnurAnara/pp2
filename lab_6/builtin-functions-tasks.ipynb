{
 "cells": [
  {
   "cell_type": "code",
   "execution_count": null,
   "metadata": {},
   "outputs": [
    {
     "name": "stdout",
     "output_type": "stream",
     "text": [
      "6\n"
     ]
    }
   ],
   "source": [
    "#Write a Python program with builtin function to multiply all the numbers in a list\n",
    "import math\n",
    "\n",
    "numbers=[1,2,3]\n",
    "def multiply_nums(numbers):\n",
    "    return math.prod(numbers) #Returns the product of all the elements in an iterable\n",
    "result = multiply_nums(numbers)\n",
    "print(result)"
   ]
  },
  {
   "cell_type": "code",
   "execution_count": 1,
   "metadata": {},
   "outputs": [
    {
     "name": "stdout",
     "output_type": "stream",
     "text": [
      "Uppercase Letters: 2\n",
      "Lowercase Letters: 6\n"
     ]
    }
   ],
   "source": [
    "#Write a Python program with builtin function that accepts a string and calculate the number of upper case letters and lower case letters\n",
    "def count_case(s):\n",
    "    upper_count = sum(1 for char in s if char.isupper())\n",
    "    lower_count = sum(1 for char in s if char.islower())\n",
    "    return upper_count, lower_count\n",
    "\n",
    "text = input(\"Enter a string: \")  \n",
    "upper, lower = count_case(text)\n",
    "\n",
    "print(f\"Uppercase Letters: {upper}\")\n",
    "print(f\"Lowercase Letters: {lower}\")\n"
   ]
  },
  {
   "cell_type": "code",
   "execution_count": null,
   "metadata": {},
   "outputs": [
    {
     "name": "stdout",
     "output_type": "stream",
     "text": [
      "YES\n"
     ]
    }
   ],
   "source": [
    "#Write a Python program with builtin function that checks whether a passed string is palindrome or not.\n",
    "def is_palindrome(s):\n",
    "    return s == s[::-1]  # Reverse the string and compare with the original\n",
    "\n",
    "string = input(\"Enter a string: \")\n",
    "if is_palindrome(string):\n",
    "    print(\"YES\")\n",
    "else:\n",
    "    print(\"NO\")\n"
   ]
  },
  {
   "cell_type": "code",
   "execution_count": 10,
   "metadata": {},
   "outputs": [
    {
     "name": "stdout",
     "output_type": "stream",
     "text": [
      "False\n",
      "True\n",
      "False\n"
     ]
    }
   ],
   "source": [
    "#Write a Python program with builtin function that returns True if all elements of the tuple are true.\n",
    "def all_elements_true(tup):\n",
    "    return all(tup)  # Returns True if all elements are True, otherwise False\n",
    "\n",
    "tuple1 = (True, False, True)\n",
    "tuple2= (1, 2, 3)  \n",
    "tuple3 = (0, 1, 2)  \n",
    " \n",
    "print(all_elements_true(tuple1)) \n",
    "print(all_elements_true(tuple2))  \n",
    "print(all_elements_true(tuple3))  \n"
   ]
  }
 ],
 "metadata": {
  "kernelspec": {
   "display_name": "Python 3",
   "language": "python",
   "name": "python3"
  },
  "language_info": {
   "codemirror_mode": {
    "name": "ipython",
    "version": 3
   },
   "file_extension": ".py",
   "mimetype": "text/x-python",
   "name": "python",
   "nbconvert_exporter": "python",
   "pygments_lexer": "ipython3",
   "version": "3.12.5"
  }
 },
 "nbformat": 4,
 "nbformat_minor": 2
}
