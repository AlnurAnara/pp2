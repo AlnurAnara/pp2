{
 "cells": [
  {
   "cell_type": "code",
   "execution_count": 23,
   "metadata": {},
   "outputs": [
    {
     "name": "stdout",
     "output_type": "stream",
     "text": [
      "\n",
      "Directories in 'c:\\\\Anara\\\\pp2\\\\lab_6':\n",
      "csv\n",
      "\n",
      "Files in 'c:\\\\Anara\\\\pp2\\\\lab_6':\n",
      "builtin-functions-tasks.ipynb\n",
      "defense.ipynb\n",
      "directory.ipynb\n",
      "exercises.ipynb\n",
      "file.ipynb\n",
      "new_file.txt\n",
      "\n",
      "All contents in 'c:\\\\Anara\\\\pp2\\\\lab_6':\n",
      "builtin-functions-tasks.ipynb\n",
      "csv\n",
      "defense.ipynb\n",
      "directory.ipynb\n",
      "exercises.ipynb\n",
      "file.ipynb\n",
      "new_file.txt\n"
     ]
    }
   ],
   "source": [
    "#Write a Python program to list only directories, files and all directories, files in a specified path.\n",
    "import os\n",
    "\n",
    "def list_contents(path):\n",
    "    try:\n",
    "        if not os.path.exists(path):\n",
    "            print(\"The path does not exist.\")\n",
    "            return\n",
    "         \n",
    "        all_items = os.listdir(path)\n",
    "        \n",
    "        # Separate files and directories\n",
    "        directories = [d for d in all_items if os.path.isdir(os.path.join(path, d))]\n",
    "        files = [f for f in all_items if os.path.isfile(os.path.join(path, f))]\n",
    "        \n",
    "        # Print results\n",
    "        print(f\"\\nDirectories in '{path}':\")\n",
    "        print(\"\\n\".join(directories) if directories else \"No directories found.\")\n",
    "\n",
    "        print(f\"\\nFiles in '{path}':\")\n",
    "        print(\"\\n\".join(files) if files else \"No files found.\")\n",
    "\n",
    "        print(f\"\\nAll contents in '{path}':\")\n",
    "        print(\"\\n\".join(all_items) if all_items else \"Directory is empty.\")\n",
    "\n",
    "    except Exception as e:\n",
    "        print(f\"An error occurred: {e}\")\n",
    "\n",
    "# Example usage\n",
    "path = input(\"Enter the directory path: \")\n",
    "list_contents(path)\n"
   ]
  },
  {
   "cell_type": "code",
   "execution_count": 24,
   "metadata": {},
   "outputs": [
    {
     "name": "stdout",
     "output_type": "stream",
     "text": [
      "The path 'c:\\\\Anara\\\\pp2\\\\lab_6' exists.\n",
      "It is readable\n",
      "It is writeable\n",
      " It is executable\n"
     ]
    }
   ],
   "source": [
    "#Write a Python program to check for access to a specified path. Test the existence, readability, writability and executability of the specified path\n",
    "import os\n",
    "\n",
    "def check_access(path):\n",
    "    if not os.path.exists(path):\n",
    "        print(\"The path does not exist.\")\n",
    "        return\n",
    "    \n",
    "    print(f\"The path '{path}' exists.\")\n",
    "\n",
    "    if os.access(path, os.R_OK):\n",
    "        print(\"It is readable\")\n",
    "    else:\n",
    "        print(\"It is not eadable\")\n",
    "\n",
    "    if os.access(path, os.W_OK):\n",
    "        print(\"It is writeable\")\n",
    "    else:\n",
    "        print(\"It is not writeable\")\n",
    "\n",
    "    if os.access(path, os.X_OK):\n",
    "        print(\" It is executable\")\n",
    "    else:\n",
    "        print(\"It is not executable\")\n",
    "\n",
    "# Example usage\n",
    "path = input(\"Enter the file or directory path to check: \")\n",
    "check_access(path)\n",
    "\n"
   ]
  },
  {
   "cell_type": "code",
   "execution_count": 1,
   "metadata": {},
   "outputs": [
    {
     "name": "stdout",
     "output_type": "stream",
     "text": [
      "The given path exists.\n",
      "Directory portion: c:\\\\Anara\\\\pp2\n",
      "Filename portion: lab_6\n"
     ]
    }
   ],
   "source": [
    "#Write a Python program to test whether a given path exists or not. If the path exist find the filename and directory portion of the given path.\n",
    "import os\n",
    "path = input(\"Enter the file or directory path: \")\n",
    "\n",
    "if os.path.exists(path):\n",
    "    print(\"The given path exists.\")\n",
    "    \n",
    "    # Get the directory name\n",
    "    directory = os.path.dirname(path)\n",
    "    print(f\"Directory portion: {directory}\")\n",
    "\n",
    "    # Get the filename\n",
    "    filename = os.path.basename(path)\n",
    "    print(f\"Filename portion: {filename}\")\n",
    "\n",
    "else:\n",
    "    print(\"The given path does NOT exist.\")\n"
   ]
  },
  {
   "cell_type": "code",
   "execution_count": null,
   "metadata": {},
   "outputs": [
    {
     "name": "stdout",
     "output_type": "stream",
     "text": [
      "2\n"
     ]
    }
   ],
   "source": [
    "#Write a Python program to count the number of lines in a text file.\n",
    "with open(\"new_file.txt\", mode='r',errors=\"coerse\") as file:\n",
    "    lineSum=len(file.readlines())\n",
    "    print(lineSum)\n",
    "\n",
    "'''\n",
    "lineSum=len(file.readlines()) is same as:\n",
    "lineSum = 0\n",
    "for line in file:\n",
    "    lineSum += 1\n",
    "    \n",
    "'''"
   ]
  },
  {
   "cell_type": "code",
   "execution_count": 1,
   "metadata": {},
   "outputs": [],
   "source": [
    "#Write a Python program to write a list to a file.\n",
    "with open(\"new_file.txt\", mode='w') as file:\n",
    "    file.write('[\"apple\",\"banana\",\"orange\"]')"
   ]
  },
  {
   "cell_type": "code",
   "execution_count": null,
   "metadata": {},
   "outputs": [],
   "source": [
    "#Write a Python program to generate 26 text files named A.txt, B.txt, and so on up to Z.txt\n",
    "import string\n",
    "\n",
    "# Loop through uppercase letters A-Z\n",
    "for letter in string.ascii_uppercase:  \n",
    "    filename = f\"{letter}.txt\"  # Create filename\n",
    "    with open(filename, \"w\") as file:  # Open file in write mode\n",
    "        file.write(f\"This is file {filename}\")  # Write some content\n",
    "\n",
    "print(\"26 text files have been created successfully.\")\n"
   ]
  },
  {
   "cell_type": "code",
   "execution_count": 1,
   "metadata": {},
   "outputs": [
    {
     "name": "stdout",
     "output_type": "stream",
     "text": [
      "copy successfully\n"
     ]
    }
   ],
   "source": [
    "#Write a Python program to copy the contents of a file to another file\n",
    "with open(\"new_file.txt\", mode='r') as file:\n",
    "    content = file.read()\n",
    "\n",
    "with open(\"copy_file.txt\", \"w\") as file2:\n",
    "    file2.write(content)\n",
    "\n",
    "print(f\"copy successfully\")\n"
   ]
  },
  {
   "cell_type": "code",
   "execution_count": 4,
   "metadata": {},
   "outputs": [
    {
     "name": "stdout",
     "output_type": "stream",
     "text": [
      ": C:\\Anara\\pp2\\lab_6\\copy_file.txt is Successfully deleted\n"
     ]
    }
   ],
   "source": [
    "#Write a Python program to delete file by specified path. Before deleting check for access and whether a given path exists or not.\n",
    "import os\n",
    "\n",
    "def deleteFile(file_path):\n",
    "    if not os.path.exists(file_path):\n",
    "        print(\"File does not exist\")\n",
    "        return\n",
    "    \n",
    "    if not os.access(file_path, os.W_OK):\n",
    "        print(\"No Access\")\n",
    "        return\n",
    "    \n",
    "    try:\n",
    "        os.remove(file_path)\n",
    "        print(f\": {file_path} is Successfully deleted\")\n",
    "    except Exception as e:\n",
    "        print(f\"{e} is failed to be deleted \")\n",
    "\n",
    "file_2b_delete = input()\n",
    "deleteFile(file_2b_delete)\n"
   ]
  }
 ],
 "metadata": {
  "kernelspec": {
   "display_name": "Python 3",
   "language": "python",
   "name": "python3"
  },
  "language_info": {
   "codemirror_mode": {
    "name": "ipython",
    "version": 3
   },
   "file_extension": ".py",
   "mimetype": "text/x-python",
   "name": "python",
   "nbconvert_exporter": "python",
   "pygments_lexer": "ipython3",
   "version": "3.12.5"
  }
 },
 "nbformat": 4,
 "nbformat_minor": 2
}
