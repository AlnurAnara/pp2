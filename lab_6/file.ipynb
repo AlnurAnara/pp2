{
 "cells": [
  {
   "cell_type": "markdown",
   "metadata": {},
   "source": [
    "# File\n"
   ]
  },
  {
   "cell_type": "markdown",
   "metadata": {},
   "source": [
    "#####  The open() function opens a file using these modes:\n",
    "* mode='r'\n",
    "* mode='w'\n",
    "* mode='a'-\n",
    "* mode='x'"
   ]
  },
  {
   "cell_type": "markdown",
   "metadata": {},
   "source": [
    "##### 1.mode='r-- read the content "
   ]
  },
  {
   "cell_type": "markdown",
   "metadata": {},
   "source": [
    "###### Python offers three ways to read files: \n",
    "* read() for the entire content\n",
    "* readline() for a \n",
    "single line\n",
    "* readlines() for all lines as a list.\n"
   ]
  },
  {
   "cell_type": "code",
   "execution_count": 7,
   "metadata": {},
   "outputs": [
    {
     "name": "stdout",
     "output_type": "stream",
     "text": [
      "['Hello Old File\\n', 'Hello New File\\n', 'This is the New message']\n"
     ]
    }
   ],
   "source": [
    "with open(\"new_file.txt\", mode='r',errors=\"coerse\") as file:\n",
    "    print(file.readlines())"
   ]
  },
  {
   "cell_type": "code",
   "execution_count": 10,
   "metadata": {},
   "outputs": [
    {
     "name": "stdout",
     "output_type": "stream",
     "text": [
      "Hello Old File\n",
      "Hello New File\n",
      "This is the New message\n"
     ]
    }
   ],
   "source": [
    "with open(\"new_file.txt\", mode='r',errors=\"coerse\") as file:\n",
    "    print(file.read())\n"
   ]
  },
  {
   "cell_type": "markdown",
   "metadata": {},
   "source": [
    "* read the file with using for loop and method strip()"
   ]
  },
  {
   "cell_type": "code",
   "execution_count": 1,
   "metadata": {},
   "outputs": [
    {
     "name": "stdout",
     "output_type": "stream",
     "text": [
      "Hello Again!\n",
      "Hello second time!\n"
     ]
    }
   ],
   "source": [
    "with open('new_file.txt') as file:\n",
    "    for row in file:\n",
    "        print(row.strip())"
   ]
  },
  {
   "cell_type": "markdown",
   "metadata": {},
   "source": [
    "*  os.R_OK -Checks if the file/directory is readable."
   ]
  },
  {
   "cell_type": "code",
   "execution_count": 2,
   "metadata": {},
   "outputs": [
    {
     "name": "stdout",
     "output_type": "stream",
     "text": [
      "✅ 'new_file.txt' is readable.\n"
     ]
    }
   ],
   "source": [
    "import os\n",
    "\n",
    "path = \"new_file.txt\"\n",
    "\n",
    "if os.access(path, os.R_OK):\n",
    "    print(f\"✅ '{path}' is readable.\")\n",
    "else:\n",
    "    print(f\"❌ '{path}' is NOT readable.\")\n"
   ]
  },
  {
   "cell_type": "markdown",
   "metadata": {},
   "source": [
    "##### 2.mode='w'-- repalce the cntent of the file\n",
    "* use write() method"
   ]
  },
  {
   "cell_type": "code",
   "execution_count": 14,
   "metadata": {},
   "outputs": [],
   "source": [
    "with open(\"new_file.txt\", mode='w',errors=\"coerse\") as file:\n",
    "    file.write('Hello Again!\\n')#replace the information of this file with file.write()"
   ]
  },
  {
   "cell_type": "markdown",
   "metadata": {},
   "source": [
    "* os.W_OK → Checks if the file/directory is writable."
   ]
  },
  {
   "cell_type": "code",
   "execution_count": 5,
   "metadata": {},
   "outputs": [
    {
     "name": "stdout",
     "output_type": "stream",
     "text": [
      "✅ 'new_file.txt' is writable.\n"
     ]
    }
   ],
   "source": [
    "import os\n",
    "\n",
    "path = \"new_file.txt\"\n",
    "\n",
    "if os.access(path, os.W_OK):\n",
    "    print(f\"✅ '{path}' is writable.\")\n",
    "else:\n",
    "    print(f\"❌ '{path}' is writable.\")\n"
   ]
  },
  {
   "cell_type": "markdown",
   "metadata": {},
   "source": [
    "##### 3.mode='a'--add new cntent to the file"
   ]
  },
  {
   "cell_type": "code",
   "execution_count": 15,
   "metadata": {},
   "outputs": [],
   "source": [
    "with open(\"new_file.txt\", mode='a',errors=\"coerse\") as file:\n",
    "    file.write('Hello second time!\\n')"
   ]
  },
  {
   "cell_type": "markdown",
   "metadata": {},
   "source": [
    "##### 4.mode='x'--check whether the file exists or not,if it does not exist it will creat a new one"
   ]
  },
  {
   "cell_type": "code",
   "execution_count": null,
   "metadata": {},
   "outputs": [],
   "source": [
    "with open('new_file.txt', 'x') as file:\n",
    "    file.write('This is a newly created file.')\n"
   ]
  },
  {
   "cell_type": "markdown",
   "metadata": {},
   "source": [
    "* os.X_OK → Checks if the file/directory is executable.是否可执行"
   ]
  },
  {
   "cell_type": "code",
   "execution_count": null,
   "metadata": {},
   "outputs": [],
   "source": [
    "import os\n",
    "\n",
    "path = \"new_file.txt\"\n",
    "\n",
    "if os.access(path, os.X_OK):\n",
    "    print(f\"✅ '{path}' is executable.\")\n",
    "else:\n",
    "    print(f\"❌ '{path}' is executable.\")\n"
   ]
  }
 ],
 "metadata": {
  "kernelspec": {
   "display_name": "Python 3",
   "language": "python",
   "name": "python3"
  },
  "language_info": {
   "codemirror_mode": {
    "name": "ipython",
    "version": 3
   },
   "file_extension": ".py",
   "mimetype": "text/x-python",
   "name": "python",
   "nbconvert_exporter": "python",
   "pygments_lexer": "ipython3",
   "version": "3.12.5"
  }
 },
 "nbformat": 4,
 "nbformat_minor": 2
}
