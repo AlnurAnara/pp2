{
 "cells": [
  {
   "cell_type": "markdown",
   "metadata": {},
   "source": [
    "# Directory(same as folders)"
   ]
  },
  {
   "cell_type": "markdown",
   "metadata": {},
   "source": [
    "##### both os.rmdir() and os.removedirs() only delete empty directories. If the directory is not empty, they will raise an error."
   ]
  },
  {
   "cell_type": "markdown",
   "metadata": {},
   "source": [
    "### 1.File and Directory Handling"
   ]
  },
  {
   "cell_type": "code",
   "execution_count": null,
   "metadata": {},
   "outputs": [],
   "source": [
    "#creat new folder(directory)\n",
    "import os\n",
    "os.mkdir('new_directory_2') \n",
    "# how is it written in Terminal:mkdir dir"
   ]
  },
  {
   "cell_type": "code",
   "execution_count": null,
   "metadata": {},
   "outputs": [],
   "source": [
    "#remove the directory\n",
    "import os\n",
    "os.rmdir(\"new_directory\") \n",
    "#In Terminal:rmdir dir"
   ]
  },
  {
   "cell_type": "code",
   "execution_count": null,
   "metadata": {},
   "outputs": [],
   "source": [
    "#makedirs() can create multiple nested directories at once\n",
    "#unlike os.mkdir() which only creates a single directory.\n",
    "import os\n",
    "os.makedirs(\"parent/child/grandchild\")  \n",
    "#In Terminal:mkdir -p dir"
   ]
  },
  {
   "cell_type": "code",
   "execution_count": null,
   "metadata": {},
   "outputs": [],
   "source": [
    "#remove multiple empty directories recursively.directory\n",
    "import os\n",
    "os.removedirs(\"new_directory\") \n",
    "#In Terminal: rm -r dir"
   ]
  },
  {
   "cell_type": "code",
   "execution_count": null,
   "metadata": {},
   "outputs": [],
   "source": [
    "#remove the file\n",
    "import os\n",
    "os.remove('file_2b_deleted.py')\n",
    "#In Terminal: rm file.txt"
   ]
  },
  {
   "cell_type": "code",
   "execution_count": null,
   "metadata": {},
   "outputs": [
    {
     "data": {
      "text/plain": [
       "'c:\\\\Anara\\\\pp2\\\\lab_6\\\\dir-and-files'"
      ]
     },
     "execution_count": 2,
     "metadata": {},
     "output_type": "execute_result"
    }
   ],
   "source": [
    "# show the path \n",
    "import os\n",
    "os.getcwd()\n",
    "#In Terminal: pwd"
   ]
  },
  {
   "cell_type": "code",
   "execution_count": null,
   "metadata": {},
   "outputs": [
    {
     "data": {
      "text/plain": [
       "['.git', 'lab_1', 'lab_2', 'lab_3', 'lab_4', 'lab_5', 'lab_6', 'task']"
      ]
     },
     "execution_count": 4,
     "metadata": {},
     "output_type": "execute_result"
    }
   ],
   "source": [
    "import os\n",
    "os.listdir(\"c:\\\\Anara\\\\pp2\\\\\") # list all the files of the folder\n",
    "#In Terminal: ls path"
   ]
  },
  {
   "cell_type": "code",
   "execution_count": null,
   "metadata": {},
   "outputs": [],
   "source": [
    "os.chdir('test') # change the working directory for the current"
   ]
  },
  {
   "cell_type": "code",
   "execution_count": null,
   "metadata": {},
   "outputs": [],
   "source": [
    "# Renaming a directory\n",
    "import os\n",
    "os.rename(\"new_directory\", \"renamed_directory\")"
   ]
  },
  {
   "cell_type": "markdown",
   "metadata": {},
   "source": [
    "### 2.Path Manipulation ( os.path )"
   ]
  },
  {
   "cell_type": "code",
   "execution_count": null,
   "metadata": {},
   "outputs": [],
   "source": [
    "#Joins two or more paths.\n",
    "import os\n",
    "os.path.join(path1, path2)\n",
    "'''\n",
    "path = os.path.join(\"/home/user\", \"documents\", \"file.txt\")\n",
    "print(path)\n",
    "'''"
   ]
  },
  {
   "cell_type": "code",
   "execution_count": null,
   "metadata": {},
   "outputs": [],
   "source": [
    "#os.path.exists()-check the files if exists or not\n",
    "import os\n",
    "os.path.exists(path)"
   ]
  },
  {
   "cell_type": "code",
   "execution_count": null,
   "metadata": {},
   "outputs": [],
   "source": [
    "#Checks if a path is a directory.\n",
    "import os\n",
    "os.path.isdir(path)"
   ]
  },
  {
   "cell_type": "code",
   "execution_count": null,
   "metadata": {},
   "outputs": [],
   "source": [
    "#Checks if a path is a file.\n",
    "import os\n",
    "os.path.isfile(path)"
   ]
  },
  {
   "cell_type": "code",
   "execution_count": null,
   "metadata": {},
   "outputs": [
    {
     "name": "stdout",
     "output_type": "stream",
     "text": [
      "c:\\Anara\\pp2\\lab_6\\dir-and-files/new_directory is not empty\n",
      "c:\\Anara\\pp2\\lab_6\\dir-and-files/new_directory_2 is empty\n"
     ]
    }
   ],
   "source": [
    "#check whether the dictory is empty or not\n",
    "path = os.getcwd()\n",
    "for directory in [col for col in os.listdir() if not '.' in col]:  \n",
    "    next_dir =  path + '/' + directory\n",
    "    #print(os.listdir(next_dir))\n",
    "    if len(os.listdir(next_dir)) > 0:#means the directory has files\n",
    "       print(f'{next_dir} is not empty')\n",
    "    else:\n",
    "        print(f'{next_dir} is empty')"
   ]
  },
  {
   "cell_type": "code",
   "execution_count": null,
   "metadata": {},
   "outputs": [
    {
     "name": "stdout",
     "output_type": "stream",
     "text": [
      "file_2b_deleted.py\n",
      "The c:\\Anara\\pp2\\lab_6\\dir-and-files/new_directory_2 is empty\n"
     ]
    }
   ],
   "source": [
    "#list the all the files of the directory\n",
    "path = os.getcwd()\n",
    "for directory in [col for col in os.listdir() if not '.' in col]:  \n",
    "    next_dir =  path + '/' + directory\n",
    "    #print(os.listdir(next_dir))\n",
    "    if len(os.listdir(next_dir)) > 0:#means the directory has files\n",
    "      for file in os.listdir(next_dir):\n",
    "            print(file)\n",
    "    else:\n",
    "        print(f'The {next_dir} is empty')"
   ]
  },
  {
   "cell_type": "code",
   "execution_count": null,
   "metadata": {},
   "outputs": [
    {
     "name": "stdout",
     "output_type": "stream",
     "text": [
      "file successfully deleted c:\\Anara\\pp2\\lab_6\\dir-and-files/new_directory/file_2b_deleted.py\n",
      "file successfully deleted c:\\Anara\\pp2\\lab_6\\dir-and-files/new_directory_2/useless.py\n"
     ]
    }
   ],
   "source": [
    "#delete all the files of the directory\n",
    "path = os.getcwd()\n",
    "for directory in [col for col in os.listdir() if not '.' in col]:  \n",
    "    next_dir =  path + '/' + directory\n",
    "    #print(os.listdir(next_dir))\n",
    "    if len(os.listdir(next_dir)) > 0:\n",
    "        for file in os.listdir(next_dir):\n",
    "            os.remove(next_dir + '/' + file)\n",
    "            print(f'file successfully deleted {next_dir + '/' + file}')\n",
    "    else:\n",
    "        print(f'The {next_dir} is empty')"
   ]
  },
  {
   "cell_type": "code",
   "execution_count": null,
   "metadata": {},
   "outputs": [
    {
     "name": "stdout",
     "output_type": "stream",
     "text": [
      "The c:\\Anara\\pp2\\lab_6\\dir-and-files/new_directory is deleted\n",
      "The c:\\Anara\\pp2\\lab_6\\dir-and-files/new_directory_2 is deleted\n"
     ]
    }
   ],
   "source": [
    "#delete the directory\n",
    "path = os.getcwd()\n",
    "if os.path.exists(path):\n",
    "\n",
    "    for directory in [col for col in os.listdir() if not '.' in col]:  \n",
    "        next_dir =  path + '/' + directory\n",
    "\n",
    "        # print(os.listdir(next_dir))\n",
    "        if len(os.listdir(next_dir)) > 0:\n",
    "            for file in os.listdir(next_dir):\n",
    "                os.remove(next_dir + '/' + file)\n",
    "                print(f'file successfully deleted {next_dir + '/' + file}')\n",
    "        else:\n",
    "            os.rmdir(next_dir)\n",
    "            print(f'The {next_dir} is deleted')\n",
    "   "
   ]
  },
  {
   "cell_type": "code",
   "execution_count": null,
   "metadata": {},
   "outputs": [],
   "source": [
    "#convert into function\n",
    "path = os.getcwd()\n",
    "def cleaning_dir(path):\n",
    "    if os.path.exists(path):\n",
    "\n",
    "        for directory in [col for col in os.listdir() if not '.' in col]:  \n",
    "            next_dir =  path + '/' + directory\n",
    "\n",
    "            # print(os.listdir(next_dir))\n",
    "            if len(os.listdir(next_dir)) > 0:\n",
    "                for file in os.listdir(next_dir):\n",
    "                    os.remove(next_dir + '/' + file)\n",
    "                    print(f'file successfully deleted {next_dir + '/' + file}')\n",
    "            else:\n",
    "                os.rmdir(next_dir)\n",
    "                print(f'The {next_dir} is deleted')\n",
    "    else:\n",
    "        pass"
   ]
  }
 ],
 "metadata": {
  "kernelspec": {
   "display_name": "Python 3",
   "language": "python",
   "name": "python3"
  },
  "language_info": {
   "codemirror_mode": {
    "name": "ipython",
    "version": 3
   },
   "file_extension": ".py",
   "mimetype": "text/x-python",
   "name": "python",
   "nbconvert_exporter": "python",
   "pygments_lexer": "ipython3",
   "version": "3.12.5"
  }
 },
 "nbformat": 4,
 "nbformat_minor": 2
}
