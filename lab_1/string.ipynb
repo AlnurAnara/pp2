{
 "cells": [
  {
   "cell_type": "markdown",
   "metadata": {},
   "source": [
    "## string"
   ]
  },
  {
   "cell_type": "code",
   "execution_count": null,
   "metadata": {},
   "outputs": [],
   "source": [
    "'''\n",
    "string: 'hello' is the same as \"hell\n",
    "print(\"Hello\")\n",
    "print('Hello')\n",
    "'''\n",
    "a = \"Hello\"\n",
    "print(a)\n",
    "\n",
    "a = \"\"\"Lorem ipsum dolor sit amet,\n",
    "consectetur adipiscing elit,\n",
    "sed do eiusmod tempor incididunt\n",
    "ut labore et dolore magna aliqua.\"\"\"\n",
    "print(a)"
   ]
  },
  {
   "cell_type": "code",
   "execution_count": null,
   "metadata": {},
   "outputs": [],
   "source": [
    "a = \"Hello, World!\" #string\n",
    "print(a[1])\n",
    "#output: e\n",
    "print(len(a)) #the length of the string"
   ]
  },
  {
   "cell_type": "markdown",
   "metadata": {},
   "source": [
    "##### 1. looping through a string"
   ]
  },
  {
   "cell_type": "code",
   "execution_count": null,
   "metadata": {},
   "outputs": [],
   "source": [
    "for x in \"banana\": #loop\n",
    "  print(x)\n",
    "  '''\n",
    "  output:\n",
    "  b\n",
    "  a\n",
    "  n\n",
    "  a\n",
    "  n\n",
    "  a\n",
    "  '''\n"
   ]
  },
  {
   "cell_type": "markdown",
   "metadata": {},
   "source": [
    "##### 2. Check String"
   ]
  },
  {
   "cell_type": "code",
   "execution_count": 1,
   "metadata": {},
   "outputs": [
    {
     "name": "stdout",
     "output_type": "stream",
     "text": [
      "True\n",
      "Yes, 'free' is present.\n"
     ]
    }
   ],
   "source": [
    "txt = \"The best things in life are free!\"\n",
    "print(\"free\" in txt)\n",
    "\n",
    "'''\n",
    "To check if a certain phrase or character is present in a string, we can use the keyword in.\n",
    "'''\n",
    "#it outputs -- Ture\n",
    "\n",
    "\n",
    "txt = \"The best things in life are free!\"\n",
    "if \"free\" in txt:\n",
    "  print(\"Yes, 'free' is present.\")\n"
   ]
  },
  {
   "cell_type": "markdown",
   "metadata": {},
   "source": [
    "##### 3. Check if NOT"
   ]
  },
  {
   "cell_type": "code",
   "execution_count": null,
   "metadata": {},
   "outputs": [],
   "source": [
    "txt = \"The best things in life are free!\"\n",
    "print(\"expensive\" not in txt)\n",
    "'''\n",
    "To check if a certain phrase or character is NOT present in a string, we can use the keyword not in.\n",
    "output:Ture\n",
    "'''\n",
    "\n",
    "txt = \"The best things in life are free!\"\n",
    "if \"expensive\" not in txt:\n",
    "  print(\"No, 'expensive' is NOT present.\")"
   ]
  },
  {
   "cell_type": "markdown",
   "metadata": {},
   "source": [
    "##### 4. Slicing Strings 切片字符串"
   ]
  },
  {
   "cell_type": "code",
   "execution_count": null,
   "metadata": {},
   "outputs": [],
   "source": [
    "'''\n",
    "You can return a range of characters by using the slice syntax.\n",
    "Specify the start index and the end index, separated by a colon, to return a part of the string.\n",
    " The first character has index 0.\n",
    "一般右括号的index不包括. e.g. [2:5]means from index 2 to 4\n",
    "'''\n",
    "b = \"Hello, World!\"\n",
    "print(b[2:5]) #output: llo\n",
    "print(b[:5]) #Get the characters from the start to position 5 (not included)\n",
    "             #outut:Hello\n",
    "print(b[2:]) #Get the characters from position 2, and all the way to the end\n",
    "             #llo, World!\n",
    "\n",
    "print(b[-5:-2])#Use negative indexes to start the slice from the end of the string\n",
    "               # output: orl\n",
    "'''\n",
    "From: \"o\" in \"World!\" (position -5)\n",
    "To, but not included: \"d\" in \"World!\" (position -2):\n",
    "'''"
   ]
  },
  {
   "cell_type": "markdown",
   "metadata": {},
   "source": [
    "##### 5. Methods "
   ]
  },
  {
   "cell_type": "code",
   "execution_count": null,
   "metadata": {},
   "outputs": [],
   "source": [
    "a = \"Hello, World!\"\n",
    "print(a.upper()) #The upper() method returns the string in upper case:\n",
    "print(a.lower())\n",
    "print(a.strip()) # returns \"Hello, World!\" Whitespace is the space before add/or after the actual text:like \"Hello \"\n",
    "#The strip() method removes any whitespace from the beginning or the end:\n",
    "print(a.replace(\"H\", \"J\")) #The replace() method replaces a string with another string:\n",
    "#be careful about the double quotation mark(双引号)\n",
    "\n",
    "print(a.split(\",\")) # returns ['Hello', ' World!']\n",
    "#The split() method splits the string into substrings if it finds instances of the separator:"
   ]
  },
  {
   "cell_type": "markdown",
   "metadata": {},
   "source": [
    "##### 6. String Concatenation"
   ]
  },
  {
   "cell_type": "code",
   "execution_count": null,
   "metadata": {},
   "outputs": [],
   "source": [
    "a = \"Hello\"\n",
    "b = \"World\"\n",
    "c = a + b #c = a + \" \" + b with space\n",
    "print(c)"
   ]
  },
  {
   "cell_type": "markdown",
   "metadata": {},
   "source": [
    "##### 7.F-strings\n",
    "'''\n",
    "1.Combine strings and numbers with F_STRINGS\n",
    "and f in front of the string literal\n",
    "and add curly brackets {} as placeholders for variables and other operations.\n",
    "'''"
   ]
  },
  {
   "cell_type": "code",
   "execution_count": null,
   "metadata": {},
   "outputs": [],
   "source": [
    "age = 36\n",
    "txt = f\"My name is John, I am {age}\"\n",
    "print(txt)\n",
    "\n",
    "price = 59\n",
    "txt = f\"The price is {price} dollars\"\n",
    "print(txt)\n"
   ]
  },
  {
   "cell_type": "markdown",
   "metadata": {},
   "source": [
    "##### 8. A modifier(修饰符) is included by adding a colon : \n",
    "followed by a legal formatting type\n",
    "like .2f which means fixed point number with 2 decimals\n"
   ]
  },
  {
   "cell_type": "code",
   "execution_count": null,
   "metadata": {},
   "outputs": [],
   "source": [
    "price = 59\n",
    "txt = f\"The price is {price:.2f} dollars\"\n",
    "print(txt)            #59.00\n",
    "\n",
    "\n",
    "#3.math operations\n",
    "\n",
    "txt = f\"The price is {20 * 59} dollars\"\n",
    "print(txt)"
   ]
  },
  {
   "cell_type": "markdown",
   "metadata": {},
   "source": [
    "##### 9.Escape Characters(转义符)"
   ]
  },
  {
   "cell_type": "code",
   "execution_count": null,
   "metadata": {},
   "outputs": [],
   "source": [
    "'''\n",
    "Escape Characters\n",
    "Code\tResult\t\n",
    "\\'\t    Single Quote\t\n",
    "\n",
    "\\\\\t    Backslash\t\n",
    "\n",
    "\n",
    "\n",
    "\\n\t    New Line换行\t txt = \"Hello\\nWorld!\"\n",
    "                         print(txt) # Hello\n",
    "                                      World!\n",
    "\n",
    "\\r\t    Carriage Return回车\t   txt = \"Hello\\rWorld!\"\n",
    "                               print(txt) #Hello\n",
    "                                           World!\n",
    "\n",
    "\n",
    "\\t\t    Tab\t                     txt = \"Hello\\tWorld!\"\n",
    "移动到下一组第四个空格的开始处      print(txt)  #Hello   World!\n",
    "\n",
    "\\b\t    Backspace(回退一个字符）#This example erases one character (backspace):\n",
    "                                txt = \"Hello \\bWorld!\"\n",
    "                                print(txt) # HelloWorld!\n",
    "\n",
    "\\f\t    Form Feed\t\n",
    "\\ooo\tOctal value\t\n",
    "\\xhh\tHex value\n",
    "'''\n",
    "\n",
    "txt = \"We are the so-called \\\"Vikings\\\" from the north.\"\n",
    "print(txt) \n",
    "#output We are the so-called \"Vikings\" from the north.\n"
   ]
  },
  {
   "cell_type": "code",
   "execution_count": null,
   "metadata": {},
   "outputs": [],
   "source": [
    "'''\n",
    "Method\t            Description\n",
    "capitalize()\t    Converts the first character to upper case\n",
    "casefold()\t\t\tConverts string into lower case\n",
    "center()\t\t\tReturns a centered string\n",
    "count()\t\t\t\tReturns the number of times a specified value occurs in a string\n",
    "encode()\t\t\tReturns an encoded version of the string\n",
    "endswith()\t\t\tReturns true if the string ends with the specified value\n",
    "expandtabs()\t\tSets the tab size of the string\n",
    "find()\t\t\t\tSearches the string for a specified value and returns the position of where it was found\n",
    "format()\t\t\tFormats specified values in a string\n",
    "format_map()\t\tFormats specified values in a string\n",
    "index()\t\t\t\tSearches the string for a specified value and returns the position of where it was found\n",
    "isalnum()\t\t\tReturns True if all characters in the string are alphanumeric\n",
    "isalpha()\t\t\tReturns True if all characters in the string are in the alphabet\n",
    "isascii()\t\t\tReturns True if all characters in the string are ascii characters\n",
    "isdecimal()\t\t\tReturns True if all characters in the string are decimals\n",
    "isdigit()\t\t\tReturns True if all characters in the string are digits\n",
    "isidentifier()\t\tReturns True if the string is an identifier\n",
    "islower()\t\t\tReturns True if all characters in the string are lower case\n",
    "isnumeric()\t\t\tReturns True if all characters in the string are numeric\n",
    "isprintable()\t\tReturns True if all characters in the string are printable\n",
    "isspace()\t\t\tReturns True if all characters in the string are whitespaces\n",
    "istitle()\t\t\tReturns True if the string follows the rules of a title\n",
    "isupper()\t\t\tReturns True if all characters in the string are upper case\n",
    "join()\t\t\t\tJoins the elements of an iterable to the end of the string\n",
    "ljust()\t\t\t\tReturns a left justified version of the string\n",
    "lower()\t\t\t\tConverts a string into lower case\n",
    "lstrip()\t\t\tReturns a left trim version of the string\n",
    "maketrans()\t\t\tReturns a translation table to be used in translations\n",
    "partition()\t\t\tReturns a tuple where the string is parted into three parts\n",
    "replace()\t\t\tReturns a string where a specified value is replaced with a specified value\n",
    "rfind()\t\t\t\tSearches the string for a specified value and returns the last position of where it was found\n",
    "rindex()\t\t\tSearches the string for a specified value and returns the last position of where it was found\n",
    "rjust()\t\t\t\tReturns a right justified version of the string\n",
    "rpartition()\t\tReturns a tuple where the string is parted into three parts\n",
    "rsplit()\t\t\tSplits the string at the specified separator, and returns a list\n",
    "rstrip()\t\t\tReturns a right trim version of the string\n",
    "split()\t\t\t\tSplits the string at the specified separator, and returns a list\n",
    "splitlines()\t\tSplits the string at line breaks and returns a list\n",
    "startswith()\t\tReturns true if the string starts with the specified value\n",
    "strip()\t\t\t\tReturns a trimmed version of the string\n",
    "swapcase()\t\t\tSwaps cases, lower case becomes upper case and vice versa\n",
    "title()\t\t\t\tConverts the first character of each word to upper case\n",
    "translate()\t\t\tReturns a translated string\n",
    "upper()\t\t\t\tConverts a string into upper case\n",
    "zfill()\t\t\t\tFills the string with a specified number of 0 values at the beginning\n",
    "'''"
   ]
  }
 ],
 "metadata": {
  "kernelspec": {
   "display_name": "Python 3",
   "language": "python",
   "name": "python3"
  },
  "language_info": {
   "codemirror_mode": {
    "name": "ipython",
    "version": 3
   },
   "file_extension": ".py",
   "mimetype": "text/x-python",
   "name": "python",
   "nbconvert_exporter": "python",
   "pygments_lexer": "ipython3",
   "version": "3.12.5"
  }
 },
 "nbformat": 4,
 "nbformat_minor": 2
}
