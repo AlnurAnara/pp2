{
 "cells": [
  {
   "cell_type": "code",
   "execution_count": 8,
   "id": "dd760a12",
   "metadata": {},
   "outputs": [],
   "source": [
    "#creat a csv file\n",
    "import csv\n",
    "with open('phonebook.csv','w') as file:\n",
    "    csv.writer(file)"
   ]
  },
  {
   "cell_type": "code",
   "execution_count": 9,
   "id": "d7990cab",
   "metadata": {},
   "outputs": [],
   "source": [
    "#2d data(with dictionary)--use writerows()\n",
    "import csv\n",
    "list_data=[['name','phonenumber'],['Bob',12345],\n",
    "           ['Anna',19873]]\n",
    "\n",
    "with open('phonebook.csv','w') as file:\n",
    "    csv_writer=csv.writer(file)\n",
    "    csv_writer.writerows(list_data)"
   ]
  },
  {
   "cell_type": "code",
   "execution_count": 10,
   "id": "86dc0103",
   "metadata": {},
   "outputs": [
    {
     "name": "stdout",
     "output_type": "stream",
     "text": [
      "['name', 'phonenumber']\n",
      "[]\n",
      "['Bob', '12345']\n",
      "[]\n",
      "['Anna', '19873']\n",
      "[]\n"
     ]
    }
   ],
   "source": [
    "\n",
    "with open('phonebook.csv','r') as file2:\n",
    "    csv_reader = csv.reader(file2,delimiter=',')\n",
    "    for row in csv_reader:\n",
    "        print(row)"
   ]
  },
  {
   "cell_type": "code",
   "execution_count": 11,
   "id": "a09fcf5a",
   "metadata": {},
   "outputs": [],
   "source": [
    "#add information\n",
    "import csv\n",
    "list_data=[['lussy',90876],\n",
    "           ['David',66576]]\n",
    "with open('phonebook.csv','a') as file:\n",
    "    csv_writer=csv.writer(file)\n",
    "    csv_writer.writerows(list_data)"
   ]
  }
 ],
 "metadata": {
  "kernelspec": {
   "display_name": "Python 3",
   "language": "python",
   "name": "python3"
  },
  "language_info": {
   "codemirror_mode": {
    "name": "ipython",
    "version": 3
   },
   "file_extension": ".py",
   "mimetype": "text/x-python",
   "name": "python",
   "nbconvert_exporter": "python",
   "pygments_lexer": "ipython3",
   "version": "3.12.5"
  }
 },
 "nbformat": 4,
 "nbformat_minor": 5
}
