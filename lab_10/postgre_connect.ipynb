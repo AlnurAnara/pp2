{
 "cells": [
  {
   "cell_type": "code",
   "execution_count": 59,
   "id": "2f2c8321-ee7d-4ab9-a151-301d2cb8104f",
   "metadata": {},
   "outputs": [
    {
     "name": "stdout",
     "output_type": "stream",
     "text": [
      "Connected to: ('PostgreSQL 17.4 on x86_64-windows, compiled by msvc-19.42.34436, 64-bit',)\n"
     ]
    }
   ],
   "source": [
    "import psycopg2\n",
    "\n",
    "conn = psycopg2.connect(\n",
    "    dbname=\"new_database\",  # Replace with your database name\n",
    "    user=\"postgres\",    # Replace with your PostgreSQL username\n",
    "    password=\"Anala20070124\",# Replace with your PostgreSQL password\n",
    "    host=\"localhost\",        # Use the IP of the server if not local\n",
    "    port=\"5432\"              # Default PostgreSQL port\n",
    ")\n",
    "\n",
    "# Create a cursor object to interact with the database\n",
    "cur = conn.cursor()\n",
    "\n",
    "# Execute a query\n",
    "cur.execute(\"SELECT version();\")\n",
    "\n",
    "# Fetch and print the result\n",
    "db_version = cur.fetchone()\n",
    "print(\"Connected to:\", db_version)\n",
    "\n",
    "# Close the connection\n",
    "cur.close()\n",
    "conn.close()\n"
   ]
  },
  {
   "cell_type": "code",
   "execution_count": 60,
   "id": "4aae245f-7e56-416a-bbe6-a54889322512",
   "metadata": {},
   "outputs": [],
   "source": [
    "def get_connection():\n",
    "    conn = psycopg2.connect(\n",
    "    dbname=\"new_database\",  # Replace with your database name\n",
    "    user=\"postgres\",    # Replace with your PostgreSQL username\n",
    "    password=\"Anala20070124\",# Replace with your PostgreSQL password\n",
    "    host=\"localhost\",        # Use the IP of the server if not local\n",
    "    port=\"5432\"              # Default PostgreSQL port\n",
    ")\n",
    "    return conn"
   ]
  },
  {
   "cell_type": "code",
   "execution_count": 61,
   "id": "4f859c39-fa67-4f59-9b07-77862262b8c4",
   "metadata": {
    "scrolled": true
   },
   "outputs": [
    {
     "name": "stdout",
     "output_type": "stream",
     "text": [
      "Tables: ['new_table', 'pg_statistic', 'pg_type', 'employees', 'pg_foreign_table', 'pg_authid', 'pg_shadow', 'snake_game2', 'pg_roles', 'pg_statistic_ext_data', 'pg_hba_file_rules', 'pg_settings', 'pg_file_settings', 'pg_backend_memory_contexts', 'pg_ident_file_mappings', 'pg_config', 'pg_shmem_allocations', 'pg_tables', 'pg_user_mapping', 'pg_statio_all_sequences', 'pg_replication_origin_status', 'pg_subscription', 'pg_attribute', 'pg_proc', 'pg_class', 'pg_attrdef', 'pg_statio_sys_sequences', 'pg_statio_user_sequences', 'pg_constraint', 'pg_inherits', 'pg_index', 'pg_operator', 'pg_opfamily', 'pg_opclass', 'pg_am', 'pg_amop', 'pg_amproc', 'pg_language', 'pg_largeobject_metadata', 'pg_aggregate', 'pg_statistic_ext', 'pg_rewrite', 'pg_trigger', 'pg_event_trigger', 'pg_description', 'pg_cast', 'pg_enum', 'pg_namespace', 'pg_conversion', 'pg_depend', 'pg_database', 'pg_db_role_setting', 'pg_tablespace', 'pg_auth_members', 'pg_shdepend', 'pg_shdescription', 'pg_ts_config', 'pg_ts_config_map', 'pg_ts_dict', 'pg_ts_parser', 'pg_ts_template', 'pg_extension', 'pg_foreign_data_wrapper', 'pg_foreign_server', 'pg_policy', 'pg_replication_origin', 'pg_default_acl', 'pg_init_privs', 'pg_seclabel', 'pg_shseclabel', 'pg_collation', 'pg_parameter_acl', 'pg_partitioned_table', 'pg_range', 'pg_transform', 'pg_sequence', 'pg_publication', 'pg_publication_namespace', 'pg_publication_rel', 'pg_subscription_rel', 'pg_group', 'pg_user', 'pg_policies', 'pg_rules', 'pg_views', 'pg_matviews', 'pg_indexes', 'pg_sequences', 'pg_stats', 'pg_stats_ext', 'pg_stats_ext_exprs', 'pg_publication_tables', 'pg_locks', 'pg_cursors', 'pg_available_extensions', 'pg_available_extension_versions', 'pg_prepared_xacts', 'pg_prepared_statements', 'pg_seclabels', 'pg_timezone_abbrevs', 'pg_timezone_names', 'pg_stat_all_tables', 'pg_stat_xact_all_tables', 'pg_stat_xact_user_tables', 'pg_stat_sys_tables', 'pg_stat_xact_sys_tables', 'pg_stat_user_tables', 'pg_statio_all_tables', 'pg_statio_sys_tables', 'pg_statio_user_tables', 'pg_stat_all_indexes', 'pg_stat_sys_indexes', 'pg_stat_user_indexes', 'pg_statio_all_indexes', 'pg_statio_sys_indexes', 'pg_statio_user_indexes', 'pg_stat_activity', 'pg_stat_replication', 'pg_stat_slru', 'pg_stat_wal_receiver', 'pg_stat_recovery_prefetch', 'pg_stat_subscription', 'pg_stat_ssl', 'pg_stat_gssapi', 'pg_replication_slots', 'pg_stat_replication_slots', 'pg_stat_database', 'pg_stat_database_conflicts', 'pg_stat_user_functions', 'pg_stat_xact_user_functions', 'pg_stat_archiver', 'pg_stat_bgwriter', 'pg_stat_checkpointer', 'pg_stat_io', 'pg_stat_wal', 'pg_stat_progress_analyze', 'pg_stat_progress_vacuum', 'pg_stat_progress_cluster', 'pg_stat_progress_create_index', 'pg_stat_progress_basebackup', 'pg_stat_progress_copy', 'pg_user_mappings', 'pg_stat_subscription_stats', 'pg_wait_events', 'pg_largeobject', 'column_column_usage', 'information_schema_catalog_name', 'check_constraints', 'applicable_roles', 'administrable_role_authorizations', 'attributes', 'collations', 'character_sets', 'check_constraint_routine_usage', 'column_privileges', 'collation_character_set_applicability', 'column_domain_usage', 'column_udt_usage', 'columns', 'constraint_column_usage', 'constraint_table_usage', 'domain_constraints', 'routine_table_usage', 'domain_udt_usage', 'domains', 'enabled_roles', 'routines', 'key_column_usage', 'parameters', 'referential_constraints', 'schemata', 'role_column_grants', 'routine_column_usage', 'sql_parts', 'routine_privileges', 'sequences', 'role_routine_grants', 'routine_routine_usage', 'routine_sequence_usage', 'sql_features', 'sql_implementation_info', 'role_table_grants', 'sql_sizing', 'table_privileges', 'table_constraints', 'transforms', 'tables', 'triggered_update_columns', 'triggers', 'udt_privileges', '_pg_foreign_data_wrappers', 'role_udt_grants', 'usage_privileges', 'foreign_tables', 'role_usage_grants', 'foreign_data_wrapper_options', 'user_defined_types', 'view_column_usage', 'view_routine_usage', 'foreign_data_wrappers', 'view_table_usage', 'views', '_pg_foreign_servers', 'data_type_privileges', 'element_types', '_pg_foreign_table_columns', '_pg_user_mappings', 'column_options', 'foreign_server_options', 'foreign_servers', '_pg_foreign_tables', 'foreign_table_options', 'user_mapping_options', 'user_mappings']\n"
     ]
    }
   ],
   "source": [
    "cur = get_connection().cursor()\n",
    "\n",
    "cur.execute(\"SELECT table_name FROM information_schema.tables;\")\n",
    "tables = cur.fetchall()\n",
    "\n",
    "print(\"Tables:\", [table[0] for table in tables])\n",
    "\n",
    "cur.close()\n",
    "conn.close()\n"
   ]
  },
  {
   "cell_type": "code",
   "execution_count": 62,
   "id": "a32340f4-3d77-420f-831d-04791e24c193",
   "metadata": {},
   "outputs": [
    {
     "name": "stdout",
     "output_type": "stream",
     "text": [
      "Snake game table created successfully!\n"
     ]
    }
   ],
   "source": [
    "conn = get_connection()\n",
    "cur = conn.cursor()\n",
    "\n",
    "# Create the table\n",
    "cur.execute(\"\"\"\n",
    "    CREATE TABLE IF NOT EXISTS snake_game2 (\n",
    "        game_id SERIAL PRIMARY KEY,\n",
    "        player_name VARCHAR(50) NOT NULL,\n",
    "        score INT NOT NULL DEFAULT 0,\n",
    "        duration_seconds INT NOT NULL,\n",
    "        game_date TIMESTAMP DEFAULT CURRENT_TIMESTAMP\n",
    "    );\n",
    "\"\"\")\n",
    "\n",
    "conn.commit()\n",
    "print(\"Snake game table created successfully!\")\n",
    "\n",
    "cur.close()\n",
    "conn.close()\n"
   ]
  },
  {
   "cell_type": "code",
   "execution_count": 63,
   "id": "b01ac2c5-046a-426d-a283-9881b276ac37",
   "metadata": {},
   "outputs": [
    {
     "name": "stdout",
     "output_type": "stream",
     "text": [
      "(5, 'Bob ', 200, 5, datetime.datetime(2024, 4, 1, 0, 0))\n",
      "(3, 'Will', 150, 4, datetime.datetime(2025, 4, 16, 17, 43, 56, 604980))\n",
      "(1, 'Bob', 400, 30, datetime.datetime(2025, 4, 11, 0, 0))\n"
     ]
    }
   ],
   "source": [
    "conn = get_connection()\n",
    "cur = conn.cursor()\n",
    "\n",
    "# Execute the query\n",
    "cur.execute(\"SELECT * FROM snake_game2;\")\n",
    "\n",
    "# Fetch and print all rows\n",
    "rows = cur.fetchall()\n",
    "for row in rows:\n",
    "    print(row)\n",
    "\n",
    "cur.close()\n",
    "conn.close()\n"
   ]
  },
  {
   "cell_type": "code",
   "execution_count": 64,
   "id": "934e1e2e-2542-4fb1-9006-0911af2aa0bd",
   "metadata": {},
   "outputs": [
    {
     "ename": "ValueError",
     "evalue": "invalid literal for int() with base 10: ''",
     "output_type": "error",
     "traceback": [
      "\u001b[1;31m---------------------------------------------------------------------------\u001b[0m",
      "\u001b[1;31mValueError\u001b[0m                                Traceback (most recent call last)",
      "Cell \u001b[1;32mIn[64], line 2\u001b[0m\n\u001b[0;32m      1\u001b[0m name \u001b[38;5;241m=\u001b[39m \u001b[38;5;28minput\u001b[39m(\u001b[38;5;124m'\u001b[39m\u001b[38;5;124mProvide your name: \u001b[39m\u001b[38;5;124m'\u001b[39m)\n\u001b[1;32m----> 2\u001b[0m score \u001b[38;5;241m=\u001b[39m \u001b[38;5;28;43mint\u001b[39;49m\u001b[43m(\u001b[49m\u001b[38;5;28;43minput\u001b[39;49m\u001b[43m(\u001b[49m\u001b[38;5;124;43m'\u001b[39;49m\u001b[38;5;124;43mProvide your score: \u001b[39;49m\u001b[38;5;124;43m'\u001b[39;49m\u001b[43m)\u001b[49m\u001b[43m)\u001b[49m\n\u001b[0;32m      3\u001b[0m duration_seconds \u001b[38;5;241m=\u001b[39m \u001b[38;5;28mint\u001b[39m(\u001b[38;5;28minput\u001b[39m(\u001b[38;5;124m'\u001b[39m\u001b[38;5;124mProvide the duration: \u001b[39m\u001b[38;5;124m'\u001b[39m))\n",
      "\u001b[1;31mValueError\u001b[0m: invalid literal for int() with base 10: ''"
     ]
    }
   ],
   "source": [
    "name = input('Provide your name: ')\n",
    "score = int(input('Provide your score: '))\n",
    "duration_seconds = int(input('Provide the duration: '))"
   ]
  },
  {
   "cell_type": "markdown",
   "id": "b427ae8f-7ab8-4a5a-b514-5ead2bd3e927",
   "metadata": {},
   "source": [
    "## Insert values"
   ]
  },
  {
   "cell_type": "code",
   "execution_count": null,
   "id": "c6d7db08-36c0-4d13-896f-854b8b6d702c",
   "metadata": {},
   "outputs": [
    {
     "data": {
      "text/plain": [
       "(5, 'Bob', 400, 30, '2024-04-01')"
      ]
     },
     "execution_count": 53,
     "metadata": {},
     "output_type": "execute_result"
    }
   ],
   "source": [
    "(5, name, score, duration_seconds, '2024-04-01')"
   ]
  },
  {
   "cell_type": "code",
   "execution_count": null,
   "id": "4f323fe3-94d9-4cfa-99ec-1e3e8b4cd4d1",
   "metadata": {},
   "outputs": [
    {
     "name": "stdout",
     "output_type": "stream",
     "text": [
      "Data inserted successfully!\n"
     ]
    }
   ],
   "source": [
    "conn = get_connection()\n",
    "cur = conn.cursor()\n",
    "\n",
    "# Insert data\n",
    "cur.execute(\"\"\"\n",
    "    INSERT INTO snake_game2 (game_id, player_name, score, duration_seconds, game_date) \n",
    "    VALUES (%s, %s, %s, %s, %s)\n",
    "\"\"\", (2, name, score, duration_seconds, '2025-04-11'))\n",
    "\n",
    "# Commit and close\n",
    "conn.commit()\n",
    "cur.close()\n",
    "conn.close()\n",
    "\n",
    "print(\"Data inserted successfully!\")\n"
   ]
  },
  {
   "cell_type": "code",
   "execution_count": null,
   "id": "e947f961-aa8e-448a-8dce-65f58b0acc9f",
   "metadata": {},
   "outputs": [
    {
     "name": "stdout",
     "output_type": "stream",
     "text": [
      "(5, 'Bob ', 200, 5, datetime.datetime(2024, 4, 1, 0, 0))\n",
      "(3, 'Will', 150, 4, datetime.datetime(2025, 4, 16, 17, 43, 56, 604980))\n",
      "(1, 'Bob', 400, 30, datetime.datetime(2025, 4, 11, 0, 0))\n"
     ]
    }
   ],
   "source": [
    "conn = get_connection()\n",
    "cur = conn.cursor()\n",
    "\n",
    "# Execute the query\n",
    "cur.execute(\"SELECT * FROM snake_game2;\")\n",
    "\n",
    "# Fetch and print all rows\n",
    "rows = cur.fetchall()\n",
    "for row in rows:\n",
    "    print(row)\n",
    "\n",
    "cur.close()\n",
    "conn.close()\n"
   ]
  },
  {
   "cell_type": "code",
   "execution_count": 65,
   "id": "7b589932-1b9a-4a18-9f54-a2c54c1cbf48",
   "metadata": {},
   "outputs": [],
   "source": [
    "import datetime\n",
    "game_date = datetime.datetime.now()"
   ]
  },
  {
   "cell_type": "code",
   "execution_count": 66,
   "id": "d64a4bc5-90e0-49ca-a1af-0c4e353685ba",
   "metadata": {},
   "outputs": [
    {
     "data": {
      "text/plain": [
       "datetime.datetime(2025, 4, 16, 17, 48, 7, 604163)"
      ]
     },
     "execution_count": 66,
     "metadata": {},
     "output_type": "execute_result"
    }
   ],
   "source": [
    "game_date"
   ]
  },
  {
   "cell_type": "code",
   "execution_count": 67,
   "id": "0c19889f-1683-4704-a123-34b7a6aeacbb",
   "metadata": {},
   "outputs": [
    {
     "name": "stdout",
     "output_type": "stream",
     "text": [
      "Data inserted successfully!\n"
     ]
    }
   ],
   "source": [
    "\n",
    "\n",
    "conn = get_connection()\n",
    "cur = conn.cursor()\n",
    "\n",
    "# Insert data\n",
    "cur.execute(\"\"\"\n",
    "    INSERT INTO snake_game2 (game_id, player_name, score, duration_seconds, game_date) \n",
    "    VALUES (%s, %s, %s, %s, %s)\n",
    "\"\"\", (4, 'Will', 150, 4, game_date))\n",
    "\n",
    "# Commit and close\n",
    "conn.commit()\n",
    "cur.close()\n",
    "conn.close()\n",
    "\n",
    "print(\"Data inserted successfully!\")\n"
   ]
  },
  {
   "cell_type": "markdown",
   "id": "b76e10c7-f7bb-4f3f-8202-79d8b076fc9c",
   "metadata": {},
   "source": [
    "## Truncate table "
   ]
  },
  {
   "cell_type": "code",
   "execution_count": 68,
   "id": "2b0a57b4-e260-4a23-ac36-9d13ef508a1b",
   "metadata": {},
   "outputs": [
    {
     "name": "stdout",
     "output_type": "stream",
     "text": [
      "Table truncated and data inserted successfully!\n"
     ]
    }
   ],
   "source": [
    "conn = get_connection()\n",
    "cur = conn.cursor()\n",
    "\n",
    "# Truncate the table\n",
    "cur.execute(\"TRUNCATE TABLE snake_game2 RESTART IDENTITY CASCADE\")\n",
    "\n",
    "# Insert data\n",
    "cur.execute(\"\"\"\n",
    "    INSERT INTO snake_game2 (game_id, player_name, score, duration_seconds, game_date) \n",
    "    VALUES (%s, %s, %s, %s, %s)\n",
    "\"\"\", (5, name, score, duration_seconds, '2024-04-01'))\n",
    "\n",
    "# Commit and close\n",
    "conn.commit()\n",
    "cur.close()\n",
    "conn.close()\n",
    "\n",
    "print(\"Table truncated and data inserted successfully!\")\n"
   ]
  },
  {
   "cell_type": "markdown",
   "id": "376a7d6e-77a6-4444-a9fc-68d18542167f",
   "metadata": {},
   "source": [
    "## Insert data from csv"
   ]
  },
  {
   "cell_type": "code",
   "execution_count": null,
   "id": "2d6256dd-6bd5-4627-8633-bc1146b52c3b",
   "metadata": {},
   "outputs": [],
   "source": [
    "import csv"
   ]
  },
  {
   "cell_type": "code",
   "execution_count": null,
   "id": "bca04422-e0b1-42fd-a0ec-cfe740d66261",
   "metadata": {},
   "outputs": [
    {
     "data": {
      "text/plain": [
       "'c:\\\\Anara\\\\pp2\\\\lab_10'"
      ]
     },
     "execution_count": 38,
     "metadata": {},
     "output_type": "execute_result"
    }
   ],
   "source": [
    "import os\n",
    "os.getcwd()"
   ]
  },
  {
   "cell_type": "code",
   "execution_count": null,
   "id": "d34ad4a3-6897-4c25-9779-098f268663f1",
   "metadata": {},
   "outputs": [
    {
     "ename": "NameError",
     "evalue": "name 'Users' is not defined",
     "output_type": "error",
     "traceback": [
      "\u001b[1;31m---------------------------------------------------------------------------\u001b[0m",
      "\u001b[1;31mNameError\u001b[0m                                 Traceback (most recent call last)",
      "Cell \u001b[1;32mIn[39], line 1\u001b[0m\n\u001b[1;32m----> 1\u001b[0m \u001b[43mUsers\u001b[49m\u001b[38;5;241m/\u001b[39muser\u001b[38;5;241m/\u001b[39mDocuments\u001b[38;5;241m/\u001b[39mKBTU_WORK\u001b[38;5;241m/\u001b[39mpp2\u001b[38;5;241m/\u001b[39mLecture_notes\u001b[38;5;241m/\u001b[39mweek_13\u001b[38;5;241m/\u001b[39mfile_csv\u001b[38;5;241m.\u001b[39mtxt()\n",
      "\u001b[1;31mNameError\u001b[0m: name 'Users' is not defined"
     ]
    }
   ],
   "source": [
    "/Users/user/Documents/KBTU_WORK/pp2/Lecture_notes/week_13/file_csv.txt"
   ]
  },
  {
   "cell_type": "code",
   "execution_count": null,
   "id": "0344f7a9-573f-4533-a547-e387b92da7d2",
   "metadata": {},
   "outputs": [],
   "source": [
    "psql -U myuser -d new_database -c \"\\copy snake_game2 FROM '/Users/user/Documents/KBTU_WORK/pp2/Lecture_notes/week_13/file_csv.txt' DELIMITER ',' CSV HEADER;\"\n",
    "\n"
   ]
  },
  {
   "cell_type": "code",
   "execution_count": 69,
   "id": "4f36be01-0e96-4ffb-9bdf-f93bb338af25",
   "metadata": {},
   "outputs": [
    {
     "name": "stdout",
     "output_type": "stream",
     "text": [
      "CSV data exported successfully\n"
     ]
    }
   ],
   "source": [
    "conn = get_connection()\n",
    "cur = conn.cursor()\n",
    "\n",
    "# Open the CSV file\n",
    "with open('file_csv.txt', 'r') as f:\n",
    "    reader = csv.reader(f)\n",
    "    next(reader)  # Skip header if present\n",
    "\n",
    "    for row in reader:\n",
    "        cur.execute(\n",
    "            '''INSERT INTO snake_game2 (game_id, player_name, score, duration_seconds, game_date) \n",
    "    VALUES (%s, %s, %s, %s, %s)''',\n",
    "            row\n",
    "        )\n",
    "\n",
    "conn.commit()\n",
    "cur.close()\n",
    "conn.close()\n",
    "print('CSV data exported successfully')"
   ]
  },
  {
   "cell_type": "code",
   "execution_count": null,
   "id": "5373ae9e-c620-4c4d-90f4-6fcb13c7a820",
   "metadata": {},
   "outputs": [],
   "source": [
    "l1 = [2,4,3]\n",
    "l2 = [5,6,4]\n",
    "# [7,0,8]\n",
    "# 342 + 465 = 807"
   ]
  },
  {
   "cell_type": "code",
   "execution_count": null,
   "id": "7580c022-00cd-45a2-9c0e-68a694165e73",
   "metadata": {},
   "outputs": [],
   "source": [
    "def get_sum(l1, l2):\n",
    "    n1 = ''\n",
    "    n2 = ''\n",
    "    for a,b in zip(l1, l2):\n",
    "        n1 = str(a) +n1\n",
    "        n2 = str(b) +n2\n",
    "    print(n1)\n",
    "    print(n2)\n",
    "    result = int(n1) + int(n2)\n",
    "    result = list(str(result))\n",
    "    result.reverse()\n",
    "    return result"
   ]
  },
  {
   "cell_type": "code",
   "execution_count": null,
   "id": "7385ca20-98d3-4975-ac18-cd8beb853725",
   "metadata": {},
   "outputs": [
    {
     "name": "stdout",
     "output_type": "stream",
     "text": [
      "342\n",
      "465\n"
     ]
    },
    {
     "data": {
      "text/plain": [
       "['7', '0', '8']"
      ]
     },
     "execution_count": 72,
     "metadata": {},
     "output_type": "execute_result"
    }
   ],
   "source": [
    "get_sum(l1,l2)"
   ]
  }
 ],
 "metadata": {
  "kernelspec": {
   "display_name": "Python 3",
   "language": "python",
   "name": "python3"
  },
  "language_info": {
   "codemirror_mode": {
    "name": "ipython",
    "version": 3
   },
   "file_extension": ".py",
   "mimetype": "text/x-python",
   "name": "python",
   "nbconvert_exporter": "python",
   "pygments_lexer": "ipython3",
   "version": "3.12.5"
  }
 },
 "nbformat": 4,
 "nbformat_minor": 5
}
