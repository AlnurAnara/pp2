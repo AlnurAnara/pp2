{
 "cells": [
  {
   "cell_type": "code",
   "execution_count": null,
   "metadata": {},
   "outputs": [],
   "source": [
    "#match-determine whether the text is begining with pattern \n",
    "#so: match just consisderes the first element\n",
    "#search-find the first pattern that exists in the text\n",
    "#findall-output all the elem that satisfied \n",
    "print(match.start())\n",
    "print(match.end())\n",
    "#split--watch tge recording qq\n",
    "#\n",
    "\n",
    "#HM:write ur own explaination of 12 examples\n",
    "#DOt-  abc   r\"a.c\"--output abc,即 用 dot来替换a和c中间的字母，如果\n",
    "\n",
    "#hyphen\n",
    "#after asterisk 没听懂\n",
    "# parentheses (abs+) if elem begins with abs and has extra letters despite the abc\n",
    "#pipe -?\n",
    "\n"
   ]
  }
 ],
 "metadata": {
  "language_info": {
   "name": "python"
  }
 },
 "nbformat": 4,
 "nbformat_minor": 2
}
