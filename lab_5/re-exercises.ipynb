{
 "cells": [
  {
   "cell_type": "code",
   "execution_count": 6,
   "metadata": {},
   "outputs": [
    {
     "name": "stdout",
     "output_type": "stream",
     "text": [
      "['ab', 'a', 'ab']\n"
     ]
    }
   ],
   "source": [
    "#Write a Python program that matches a string that has an 'a' followed by zero or more 'b''s.\n",
    "import re\n",
    "text = \"ab a abcc\"\n",
    "pattern = r\"ab*\"\n",
    "match = re.findall(pattern, text)\n",
    "print(match)\n"
   ]
  },
  {
   "cell_type": "code",
   "execution_count": 9,
   "metadata": {},
   "outputs": [
    {
     "name": "stdout",
     "output_type": "stream",
     "text": [
      "['abb', 'abbbb']\n"
     ]
    }
   ],
   "source": [
    "#Write a Python program that matches a string that has an 'a' followed by two to three 'b'.\n",
    "text = \"ab abb a abbbbidhjdsf ab\"\n",
    "pattern = r\"abb+\"\n",
    "matches = re.findall(pattern, text)\n",
    "print(matches)\n",
    "#find all the elems which satify the request"
   ]
  },
  {
   "cell_type": "code",
   "execution_count": 17,
   "metadata": {},
   "outputs": [
    {
     "name": "stdout",
     "output_type": "stream",
     "text": [
      "['ilove_python']\n"
     ]
    }
   ],
   "source": [
    "#Write a Python program to find sequences of lowercase letters joined with a underscore.\n",
    "import re\n",
    "text = \"Python_3 is fun! ilove_python\"\n",
    "pattern = r\"\\b[a-z]+_[a-z]+\\b\"\n",
    "matches = re.findall(pattern, text)\n",
    "print(matches)"
   ]
  },
  {
   "cell_type": "code",
   "execution_count": 21,
   "metadata": {},
   "outputs": [
    {
     "name": "stdout",
     "output_type": "stream",
     "text": [
      "['Python', 'Fun', 'Learning', 'Regex', 'Interesting']\n"
     ]
    }
   ],
   "source": [
    "#Write a Python program to find the sequences of one upper case letter followed by lower case letters.\n",
    "import re\n",
    "\n",
    "text = \"Python is Fun and Learning Regex is Interesting!\"\n",
    "\n",
    "# Regular expression pattern\n",
    "pattern = r\"\\b[A-Z][a-z]+\\b\"\n",
    "\n",
    "# Find all matches\n",
    "matches = re.findall(pattern, text)\n",
    "\n",
    "print(matches)\n"
   ]
  },
  {
   "cell_type": "code",
   "execution_count": null,
   "metadata": {},
   "outputs": [
    {
     "name": "stdout",
     "output_type": "stream",
     "text": [
      "['afb aisgaifebfhb ab a0b']\n"
     ]
    },
    {
     "data": {
      "text/plain": [
       "\"\\n^a → The string must start with 'a'.\\n.* → Matches any characters (. means any character, * means zero or more times).\\nb$ → The string must end with 'b'.\\n\""
      ]
     },
     "execution_count": 42,
     "metadata": {},
     "output_type": "execute_result"
    }
   ],
   "source": [
    "#Write a Python program that matches a string that has an 'a' followed by anything, ending in 'b'.\n",
    "import re\n",
    "text = \"afb aisgaifebfhb ab a0b fbg\"\n",
    "pattern = r\"\\ba.*b\\b\"\n",
    "match = re.findall(pattern, text)\n",
    "print(match if matches else \"No match\")\n",
    "'''\n",
    ".* → Matches any characters (. means any character, * means zero or more times).\n",
    "\\b ensures we match whole words.   \n",
    "'''"
   ]
  },
  {
   "cell_type": "code",
   "execution_count": 43,
   "metadata": {},
   "outputs": [
    {
     "name": "stdout",
     "output_type": "stream",
     "text": [
      "Hello:::worlds:\n"
     ]
    }
   ],
   "source": [
    "#Write a Python program to replace all occurrences of space, comma, or dot with a colon.\n",
    "import re\n",
    "text = \"Hello,  worlds.\"\n",
    "pattern = r\"[ ,.]\"\n",
    "replacement = \":\"\n",
    "\n",
    "new_text = re.sub(pattern, replacement, text)\n",
    "print(new_text)\n"
   ]
  },
  {
   "cell_type": "code",
   "execution_count": 58,
   "metadata": {},
   "outputs": [
    {
     "name": "stdout",
     "output_type": "stream",
     "text": [
      "helloWorldThisIsPython\n"
     ]
    }
   ],
   "source": [
    "#Write a python program to convert snake case string to camel case string.\n",
    "'''\n",
    "explain:1. Snake Case (snake_case)\n",
    "Format: Words are lowercase and separated by underscores (_)\n",
    "i.e.:user_first_name = \"John\"\n",
    "\n",
    "2. Camel Case (camelCase)\n",
    "Format: The first word is lowercase, and each following word starts with an uppercase letter (no underscores).\n",
    "i.e.:userFirstName = \"John\"\n",
    "'''\n",
    "import re\n",
    "\n",
    "def snake_to_camel(snake_str):\n",
    "    # Use re.sub() to replace underscores and capitalize the next letter\n",
    "    return re.sub(r'_([a-z])', lambda match: match.group(1).upper(), snake_str)\n",
    "\n",
    "snake_case = \"hello_world_this_is_python\"\n",
    "camel_case = snake_to_camel(snake_case)\n",
    "\n",
    "print(camel_case)\n"
   ]
  },
  {
   "cell_type": "code",
   "execution_count": null,
   "metadata": {},
   "outputs": [
    {
     "name": "stdout",
     "output_type": "stream",
     "text": [
      "['', 'banana', 'cherry', 'orange', 'poineapple']\n"
     ]
    }
   ],
   "source": [
    "#Write a Python program to split a string at uppercase letters\n",
    "import re\n",
    "text = \"AbananaAcherryAorangeApoineapple\"\n",
    "pattern = r\"[A-Z]\"# splits at uppercase letters, but also removes them.\n",
    "\n",
    "split_text = re.split(pattern, text)\n",
    "print(split_text)\n"
   ]
  },
  {
   "cell_type": "code",
   "execution_count": null,
   "metadata": {},
   "outputs": [],
   "source": [
    "#Write a Python program to split a string at uppercase letters\n",
    "import re\n",
    "text = \"BananaCherryOrangePoineapple\"\n",
    "pattern = r\"(?=[A-Z])\"\n",
    "\n",
    "split_text = re.split(pattern, text)\n",
    "print(split_text)\n"
   ]
  },
  {
   "cell_type": "code",
   "execution_count": 54,
   "metadata": {},
   "outputs": [
    {
     "name": "stdout",
     "output_type": "stream",
     "text": [
      "Hello World This Is Python\n"
     ]
    }
   ],
   "source": [
    "#Write a Python program to insert spaces between words starting with capital letters\n",
    "import re\n",
    "\n",
    "text = \"HelloWorldThisIsPython\"\n",
    "pattern = r\"(?<!^)([A-Z])\"\n",
    "result = re.sub(pattern, r\" \\1\", text)\n",
    "\n",
    "print(result)\n",
    "\n"
   ]
  },
  {
   "cell_type": "code",
   "execution_count": null,
   "metadata": {},
   "outputs": [],
   "source": [
    "#Write a Python program to convert a given camel case string to snake case.\n",
    "import re\n",
    "\n",
    "def camel_to_snake(camel_str):\n",
    "    return re.sub(r'([A-Z])', r'_\\1', camel_str).lower().lstrip('_')\n",
    "\n",
    "camel_case = \"camelCaseExample\"\n",
    "snake_case = camel_to_snake(camel_case)\n",
    "\n",
    "print(snake_case)\n"
   ]
  }
 ],
 "metadata": {
  "kernelspec": {
   "display_name": "Python 3",
   "language": "python",
   "name": "python3"
  },
  "language_info": {
   "codemirror_mode": {
    "name": "ipython",
    "version": 3
   },
   "file_extension": ".py",
   "mimetype": "text/x-python",
   "name": "python",
   "nbconvert_exporter": "python",
   "pygments_lexer": "ipython3",
   "version": "3.12.5"
  }
 },
 "nbformat": 4,
 "nbformat_minor": 2
}
