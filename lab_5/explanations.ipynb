{
 "cells": [
  {
   "cell_type": "code",
   "execution_count": 2,
   "metadata": {},
   "outputs": [],
   "source": [
    "import re"
   ]
  },
  {
   "cell_type": "markdown",
   "metadata": {},
   "source": [
    "## Basic Syntax Elements:"
   ]
  },
  {
   "cell_type": "markdown",
   "metadata": {},
   "source": [
    "### Literal Characters (r'abc')"
   ]
  },
  {
   "cell_type": "code",
   "execution_count": 8,
   "metadata": {},
   "outputs": [
    {
     "name": "stdout",
     "output_type": "stream",
     "text": [
      "No match\n"
     ]
    }
   ],
   "source": [
    "text = \"abc is the beginning of the alphabet and ends with xyz\"\n",
    "pattern = r\"b\"\n",
    "match = re.match(pattern, text)\n",
    "print(match.group() if match else \"No match\")\n",
    "# bc match method only check the very first element of the text,to determine whether it begins with the pattern,so here the text is begin with a (abc),so \"b\" does not be considered"
   ]
  },
  {
   "cell_type": "code",
   "execution_count": 250,
   "metadata": {},
   "outputs": [
    {
     "data": {
      "text/plain": [
       "['abc', 'abc', 'abcxyz', 'abcdfd', 'bcv']"
      ]
     },
     "execution_count": 250,
     "metadata": {},
     "output_type": "execute_result"
    }
   ],
   "source": [
    "text.split()"
   ]
  },
  {
   "cell_type": "code",
   "execution_count": null,
   "metadata": {},
   "outputs": [
    {
     "name": "stdout",
     "output_type": "stream",
     "text": [
      "['c', 'c', 'c', 'c', 'c']\n"
     ]
    }
   ],
   "source": [
    "\n",
    "text = \"abc abc abcxyz abcdfd bcv\"\n",
    "pattern = r\"c\"\n",
    "matches = re.findall(pattern, text)\n",
    "print(matches)\n",
    "#findall method is to find every element which is satisfied with the pattern,in this case,findall need to find all the elems which consists letter \"c\",and print the letter\"c\""
   ]
  },
  {
   "cell_type": "markdown",
   "metadata": {},
   "source": [
    "### Dot (r'a.c')"
   ]
  },
  {
   "cell_type": "code",
   "execution_count": null,
   "metadata": {},
   "outputs": [
    {
     "name": "stdout",
     "output_type": "stream",
     "text": [
      "afc\n"
     ]
    }
   ],
   "source": [
    "text = \"afc\"\n",
    "pattern = r\"a.c\"\n",
    "match = re.match(pattern, text)\n",
    "print(match.group() if match else \"No match\")\n",
    "#dot means change the middle part of the given letters,if after changed,it is the same form as the pattern,that print it"
   ]
  },
  {
   "cell_type": "code",
   "execution_count": null,
   "metadata": {},
   "outputs": [
    {
     "name": "stdout",
     "output_type": "stream",
     "text": [
      "['abc', 'axc']\n"
     ]
    }
   ],
   "source": [
    "\n",
    "text = \"abc ac axc\"\n",
    "pattern = r\"a.c\"\n",
    "matches = re.findall(pattern, text)\n",
    "print(matches)\n",
    "#like \"abc\" and \"axc\" are both the same as the pattern:\"a.c\",however,ac is not,bc there has no letter between a and c,so ac does not consider"
   ]
  },
  {
   "cell_type": "markdown",
   "metadata": {},
   "source": [
    "### Caret (^)\n",
    "determine whether the text begins with the pattern"
   ]
  },
  {
   "cell_type": "code",
   "execution_count": null,
   "metadata": {},
   "outputs": [
    {
     "name": "stdout",
     "output_type": "stream",
     "text": [
      "abc\n"
     ]
    }
   ],
   "source": [
    "text = \"abcdef\"\n",
    "pattern = r\"^abc\"\n",
    "match = re.match(pattern, text)\n",
    "print(match.group() if match else \"No match\")\n",
    "# the text starts with abc"
   ]
  },
  {
   "cell_type": "code",
   "execution_count": null,
   "metadata": {},
   "outputs": [
    {
     "name": "stdout",
     "output_type": "stream",
     "text": [
      "['abc']\n"
     ]
    }
   ],
   "source": [
    "\n",
    "text = \"abcdefabcabcd\"\n",
    "pattern = r\"^abc\"\n",
    "matches = re.findall(pattern, text)\n",
    "print(matches)\n",
    "# the text starts with abc"
   ]
  },
  {
   "cell_type": "markdown",
   "metadata": {},
   "source": [
    "### Dollar ($)\n",
    "determine whether the text ends with the pattern"
   ]
  },
  {
   "cell_type": "code",
   "execution_count": null,
   "metadata": {},
   "outputs": [
    {
     "name": "stdout",
     "output_type": "stream",
     "text": [
      "abc\n"
     ]
    }
   ],
   "source": [
    "\n",
    "text = \"xyzabc\"\n",
    "pattern = r\"abc$\"\n",
    "match = re.search(pattern, text)\n",
    "print(match.group() if match else \"No match\")\n",
    "#the text ends with abc"
   ]
  },
  {
   "cell_type": "code",
   "execution_count": 23,
   "metadata": {},
   "outputs": [
    {
     "name": "stdout",
     "output_type": "stream",
     "text": [
      "['abc']\n"
     ]
    }
   ],
   "source": [
    "\n",
    "text = \"abc def abc\"\n",
    "pattern = r\"abc$\"\n",
    "matches = re.findall(pattern, text)\n",
    "print(matches)"
   ]
  },
  {
   "cell_type": "markdown",
   "metadata": {},
   "source": [
    "### Square Brackets ([])"
   ]
  },
  {
   "cell_type": "code",
   "execution_count": null,
   "metadata": {},
   "outputs": [
    {
     "name": "stdout",
     "output_type": "stream",
     "text": [
      "e\n"
     ]
    }
   ],
   "source": [
    "\n",
    "text = \"hello world all item\"\n",
    "pattern = r\"[aioue]\"\n",
    "match = re.search(pattern, text)\n",
    "print(match.group() if match else \"No match\")\n",
    "# matches any one of the elem is satisfied with the pattern.\n",
    "#in this case,elem \"hello\" contain \"e\",so just print \"e\""
   ]
  },
  {
   "cell_type": "code",
   "execution_count": 283,
   "metadata": {},
   "outputs": [
    {
     "name": "stdout",
     "output_type": "stream",
     "text": [
      "e\n",
      "o\n",
      "o\n",
      "a\n",
      "i\n",
      "e\n"
     ]
    }
   ],
   "source": [
    "list_symb = []\n",
    "for letter in text:\n",
    "    for symb in pattern:\n",
    "        if letter == symb:\n",
    "            print(letter)\n",
    "            list_symb.append(letter)\n",
    "        "
   ]
  },
  {
   "cell_type": "code",
   "execution_count": null,
   "metadata": {},
   "outputs": [
    {
     "name": "stdout",
     "output_type": "stream",
     "text": [
      "['e', 'o', 'o', 'a', 'i', 'e']\n"
     ]
    }
   ],
   "source": [
    "\n",
    "text = \"hello world all item\"\n",
    "pattern = r\"[aeiou]\"\n",
    "matches = re.findall(pattern, text)\n",
    "print(matches)\n",
    "#findall --find all the elems that satisfied the pattern,and print the pattern they include"
   ]
  },
  {
   "cell_type": "markdown",
   "metadata": {},
   "source": [
    "### Hyphen (-)\n",
    "hyphen means range;such as digits,letters,etc."
   ]
  },
  {
   "cell_type": "code",
   "execution_count": null,
   "metadata": {},
   "outputs": [
    {
     "name": "stdout",
     "output_type": "stream",
     "text": [
      "9\n"
     ]
    }
   ],
   "source": [
    "\n",
    "text = \"abc9123 123\"\n",
    "pattern = r\"[0-9]\"\n",
    "match = re.search(pattern, text)\n",
    "print(match.group() if match else \"No match\")\n",
    "#use search func to find the first digit of the text"
   ]
  },
  {
   "cell_type": "code",
   "execution_count": null,
   "metadata": {},
   "outputs": [
    {
     "name": "stdout",
     "output_type": "stream",
     "text": [
      "['1', '2', '3', '4', '5', '6', '9']\n"
     ]
    }
   ],
   "source": [
    "\n",
    "text = \"abc123 def456 9\"\n",
    "pattern = r\"[0-9]\"\n",
    "matches = re.findall(pattern, text)\n",
    "print(matches)\n",
    "#use findall func to find all the digits of the text"
   ]
  },
  {
   "cell_type": "markdown",
   "metadata": {},
   "source": [
    "### Asterisk (*)"
   ]
  },
  {
   "cell_type": "code",
   "execution_count": null,
   "metadata": {},
   "outputs": [
    {
     "name": "stdout",
     "output_type": "stream",
     "text": [
      "abcc\n"
     ]
    }
   ],
   "source": [
    "\n",
    "text = \"abcc abccc\"\n",
    "pattern = r\"abc*\"\n",
    "match = re.match(pattern, text)\n",
    "print(match.group() if match else \"No match\")\n",
    "'''\n",
    "a → Matches the letter \"a\".\n",
    "b → Matches the letter \"b\".\n",
    "c* → Matches 0 or more occurrences of \"c\".\n",
    "so where the * is,that letter can be matched 0 times or more times\n",
    "'''"
   ]
  },
  {
   "cell_type": "code",
   "execution_count": null,
   "metadata": {},
   "outputs": [
    {
     "name": "stdout",
     "output_type": "stream",
     "text": [
      "['abcc', 'ab']\n"
     ]
    }
   ],
   "source": [
    "text = \"abcc ab ac a bc\"\n",
    "pattern = r\"abc*\"\n",
    "matches = re.findall(pattern, text)\n",
    "print(matches)\n",
    "#so why a isn't included ,bc the pattern asks that the elem must start with \"a\" followed by \"b\", then \"c\" 0 or more times."
   ]
  },
  {
   "cell_type": "markdown",
   "metadata": {},
   "source": [
    "##### the difference between asterisk(*) and plus(+) and question mark(?) is:\n",
    "* asterisk allows zero or more matches.but plus requires to match the \n",
    "e.g. abc* → Matches \"ab\", \"abc\", \"abcc\", etc.including \"ab\" \n",
    "\n",
    "* preceding characterone or more times.\n",
    "abc+ → Matches \"abc\", \"abcc\", \"abccc\", etc., but NOT \"ab\" because at least one \"c\" is required.\n",
    "\n",
    "* question mark need to match the preceding character 0 or 1 time\n",
    "abc? → Matches \"ab\" or \"abc\", but not \"abcc\" (because \"c\" can appear at most once)."
   ]
  },
  {
   "cell_type": "markdown",
   "metadata": {},
   "source": [
    "### Plus (+)"
   ]
  },
  {
   "cell_type": "code",
   "execution_count": null,
   "metadata": {},
   "outputs": [
    {
     "name": "stdout",
     "output_type": "stream",
     "text": [
      "No match\n",
      "abc\n"
     ]
    }
   ],
   "source": [
    "text_1 = \"ac abcc ac abc\"\n",
    "text_2 = \"abc ac abc\"\n",
    "pattern = r\"abc+\"\n",
    "#abc+ → Matches \"abc\", \"abcc\", \"abccc\", etc.\n",
    "#but NOT \"ab\" because at least one \"c\" is required.\n",
    "match = re.match(pattern, text_1)\n",
    "match_2 = re.match(pattern, text_2)\n",
    "print(match.group() if match else \"No match\")\n",
    "print(match_2.group() if match_2 else \"No match_2\")\n",
    "# here match func only check from the start of the text:\n",
    "#in the text_1,\"ac\" does not satisfy\n",
    "#text_2\"abc\" is ok"
   ]
  },
  {
   "cell_type": "code",
   "execution_count": null,
   "metadata": {},
   "outputs": [
    {
     "name": "stdout",
     "output_type": "stream",
     "text": [
      "['abcc', 'abc', 'abcc']\n"
     ]
    }
   ],
   "source": [
    "text = \"abcc abc a abccdhjdsf ab\"\n",
    "pattern = r\"abc+\"\n",
    "matches = re.findall(pattern, text)\n",
    "print(matches)\n",
    "#find all the elems which satify the request"
   ]
  },
  {
   "cell_type": "markdown",
   "metadata": {},
   "source": [
    "### Question Mark (?)"
   ]
  },
  {
   "cell_type": "code",
   "execution_count": null,
   "metadata": {},
   "outputs": [
    {
     "name": "stdout",
     "output_type": "stream",
     "text": [
      "ab\n"
     ]
    }
   ],
   "source": [
    "text = \"abdca\"\n",
    "pattern = r\"abc?\"\n",
    "match = re.match(pattern, text)\n",
    "print(match.group() if match else \"No match\")\n",
    "#match the preceding character 0 or 1 time.\n",
    "# bc the \"ab\" of \"abdca\" satisfies the pattern "
   ]
  },
  {
   "cell_type": "code",
   "execution_count": null,
   "metadata": {},
   "outputs": [
    {
     "name": "stdout",
     "output_type": "stream",
     "text": [
      "['abcdf', 'abcd']\n"
     ]
    }
   ],
   "source": [
    "text = \"abcdfadcsadcs abcds a abcc abgfda\"\n",
    "pattern = r\"abcdf?\"\n",
    "matches = re.findall(pattern, text)\n",
    "print(matches)\n",
    "# find all the elems"
   ]
  },
  {
   "cell_type": "markdown",
   "metadata": {},
   "source": [
    "### Parentheses (())\n",
    "* inside the parentheses must appear together as a group one or more times."
   ]
  },
  {
   "cell_type": "code",
   "execution_count": null,
   "metadata": {},
   "outputs": [
    {
     "name": "stdout",
     "output_type": "stream",
     "text": [
      "abcabcabcabc\n"
     ]
    }
   ],
   "source": [
    "text = \"abcabcabcabc abc\"\n",
    "pattern = r\"(abc)+\"\n",
    "match = re.match(pattern, text)\n",
    "print(match.group() if match else \"No match\")\n",
    "'''\n",
    "(abc) → Groups \"abc\" together.\n",
    "+ → Matches one or more occurrences of \"abc\".\n",
    "'''"
   ]
  },
  {
   "cell_type": "code",
   "execution_count": null,
   "metadata": {},
   "outputs": [
    {
     "name": "stdout",
     "output_type": "stream",
     "text": [
      "['abc', 'abc']\n"
     ]
    }
   ],
   "source": [
    "text = \"abcabc abchello abdcc\"\n",
    "pattern = r\"(abc)+\"\n",
    "matches = re.findall(pattern, text)\n",
    "print(matches)\n",
    "# the first two elems satifsy the pattern,bc abc appear together"
   ]
  },
  {
   "cell_type": "markdown",
   "metadata": {},
   "source": [
    "### Pipe (|)\n",
    " it match from left to right and stops at the first successful match(look the 2nd code)"
   ]
  },
  {
   "cell_type": "code",
   "execution_count": 81,
   "metadata": {},
   "outputs": [
    {
     "name": "stdout",
     "output_type": "stream",
     "text": [
      "abc\n"
     ]
    }
   ],
   "source": [
    "text = \"abc abcdef\"\n",
    "pattern = r\"abc|\"\n",
    "match = re.match(pattern, text)\n",
    "print(match.group() if match else \"No match\")"
   ]
  },
  {
   "cell_type": "code",
   "execution_count": null,
   "metadata": {},
   "outputs": [
    {
     "name": "stdout",
     "output_type": "stream",
     "text": [
      "['abc', 'def', 'abc', 'abc', 'def']\n"
     ]
    }
   ],
   "source": [
    "text = \"abc def abc abcdef\"\n",
    "pattern = r\"abc|abcdef|def|abcdef\"\n",
    "matches = re.findall(pattern, text)\n",
    "print(matches)\n",
    "#the reason of why the elem \"abcdef\" does not macth\n",
    "#Since \"abc\" is a valid match inside \"abcdef\", it stops and does not check for \"abcdef\".\n"
   ]
  },
  {
   "cell_type": "markdown",
   "metadata": {},
   "source": [
    "### Backslash (\\)"
   ]
  },
  {
   "cell_type": "code",
   "execution_count": null,
   "metadata": {},
   "outputs": [
    {
     "name": "stdout",
     "output_type": "stream",
     "text": [
      ".\n"
     ]
    }
   ],
   "source": [
    "text = \"file.txt\"\n",
    "pattern = r\"\\.\"\n",
    "match = re.search(pattern, text)\n",
    "print(match.group(0) if match else \"No match\")\n",
    "# match a literal period(any special characters),but not the elems,so it will only output the special characters（like . , ? *)"
   ]
  },
  {
   "cell_type": "code",
   "execution_count": 22,
   "metadata": {},
   "outputs": [
    {
     "name": "stdout",
     "output_type": "stream",
     "text": [
      "['.', '.']\n"
     ]
    }
   ],
   "source": [
    "text = \"file.txt image.jpg\"\n",
    "pattern = r\"\\.\"\n",
    "matches = re.findall(pattern, text)\n",
    "print(matches)"
   ]
  }
 ],
 "metadata": {
  "kernelspec": {
   "display_name": "Python 3",
   "language": "python",
   "name": "python3"
  },
  "language_info": {
   "codemirror_mode": {
    "name": "ipython",
    "version": 3
   },
   "file_extension": ".py",
   "mimetype": "text/x-python",
   "name": "python",
   "nbconvert_exporter": "python",
   "pygments_lexer": "ipython3",
   "version": "3.12.5"
  }
 },
 "nbformat": 4,
 "nbformat_minor": 2
}
