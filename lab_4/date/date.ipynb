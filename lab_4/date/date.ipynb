{
 "cells": [
  {
   "cell_type": "markdown",
   "metadata": {},
   "source": [
    "## Date"
   ]
  },
  {
   "cell_type": "code",
   "execution_count": 2,
   "metadata": {},
   "outputs": [
    {
     "name": "stdout",
     "output_type": "stream",
     "text": [
      "2025-02-17 12:18:36.059509\n"
     ]
    },
    {
     "data": {
      "text/plain": [
       "datetime.date(2025, 2, 17)"
      ]
     },
     "execution_count": 2,
     "metadata": {},
     "output_type": "execute_result"
    }
   ],
   "source": [
    "#Import the datetime module and display the current date\n",
    "import datetime\n",
    "\n",
    "x = datetime.datetime.now()\n",
    "print(x)\n",
    "datetime.date.today()\n"
   ]
  },
  {
   "cell_type": "code",
   "execution_count": 3,
   "metadata": {},
   "outputs": [
    {
     "name": "stdout",
     "output_type": "stream",
     "text": [
      "2025\n",
      "Monday\n"
     ]
    }
   ],
   "source": [
    "import datetime\n",
    "\n",
    "x = datetime.datetime.now()\n",
    "\n",
    "print(x.year)\n",
    "print(x.strftime(\"%A\"))\n"
   ]
  },
  {
   "cell_type": "markdown",
   "metadata": {},
   "source": [
    "### Commonly used classes"
   ]
  },
  {
   "cell_type": "code",
   "execution_count": null,
   "metadata": {},
   "outputs": [
    {
     "data": {
      "text/plain": [
       "' \\ndatetime.datetime -- for dates(y,m,d)\\ndatetime.datetime -- for dates(y,m,d)\\n\\n'"
      ]
     },
     "execution_count": 9,
     "metadata": {},
     "output_type": "execute_result"
    }
   ],
   "source": [
    "''' \n",
    "datetime.datetime -- for combine date and time\n",
    "datetime.date -- for dates(y,m,d)\n",
    "datetime.time -- for time(hour,min,sec)\n",
    "datetime.timedelta -- for time differences between datetime objecta\n",
    "\n",
    "'''\n"
   ]
  },
  {
   "cell_type": "code",
   "execution_count": null,
   "metadata": {},
   "outputs": [
    {
     "name": "stdout",
     "output_type": "stream",
     "text": [
      "2025-02-17 12:56:10.782874\n",
      "2025-02-17\n",
      "12:56:59\n"
     ]
    }
   ],
   "source": [
    "import datetime\n",
    "\n",
    "x = datetime.datetime.now()\n",
    "print(x)\n",
    "\n",
    "y= datetime.date.today()\n",
    "print(y)\n",
    "\n",
    "z=datetime.time(12,56,59)\n",
    "print(z)\n",
    "\n",
    "t=datetime.timedelta()"
   ]
  },
  {
   "cell_type": "code",
   "execution_count": 15,
   "metadata": {},
   "outputs": [
    {
     "name": "stdout",
     "output_type": "stream",
     "text": [
      "Now: 2025-02-17 14:56:07.493453\n",
      "10 days later: 2025-02-27 14:56:07.493453\n",
      "3 hours ago: 2025-02-17 11:56:07.493453\n"
     ]
    }
   ],
   "source": [
    "from datetime import datetime, timedelta\n",
    "\n",
    "now = datetime.now()  # Current date and time\n",
    "print(\"Now:\", now)\n",
    "\n",
    "# Add 10 days\n",
    "future_date = now + timedelta(days=10)\n",
    "print(\"10 days later:\", future_date)\n",
    "\n",
    "# Subtract 3 hours\n",
    "past_time = now - timedelta(hours=3)\n",
    "print(\"3 hours ago:\", past_time)\n"
   ]
  },
  {
   "cell_type": "markdown",
   "metadata": {},
   "source": [
    "### creat date objects"
   ]
  },
  {
   "cell_type": "code",
   "execution_count": null,
   "metadata": {},
   "outputs": [],
   "source": [
    "import datetime\n",
    "\n",
    "x = datetime.datetime(2020, 5, 17)\n",
    "\n",
    "print(x)"
   ]
  },
  {
   "cell_type": "markdown",
   "metadata": {},
   "source": [
    "### the shiftime() method-- formatting date objects into readable strings."
   ]
  },
  {
   "cell_type": "code",
   "execution_count": 7,
   "metadata": {},
   "outputs": [
    {
     "name": "stdout",
     "output_type": "stream",
     "text": [
      "June\n",
      "2018-06-01\n",
      "Fri Jun  1 00:00:00 2018\n",
      "2018 PP2 % 06 - 06/01/18, June\n"
     ]
    }
   ],
   "source": [
    "import datetime\n",
    "\n",
    "x = datetime.datetime(2018, 6, 1)\n",
    "\n",
    "print(x.strftime(\"%B\"))\n",
    "print(x.strftime(\"%Y-%m-%d\"))\n",
    "print(x.strftime(\"%c\"))\n",
    "print(x.strftime('%Y PP2 %% %m - %D, %B'))"
   ]
  },
  {
   "cell_type": "markdown",
   "metadata": {},
   "source": [
    "#### reference\n",
    "\n",
    "Directive --Description\t-- Example\n",
    "* %a --\tWeekday, short version\t--Wed\t\n",
    "* %A --\tWeekday, full version -- Wednesday\t\n",
    "* %w --\tWeekday as a number 0-6, 0 is Sunday --\t3\t\n",
    "* %d --\tDay of month 01-31 --31\t\n",
    "* %b --\tMonth name, short version --\tDec\t\n",
    "* %B --\tMonth name, full version --December\t\n",
    "* %m --\tMonth as a number 01-12\t-- 12\t\n",
    "* %y --\tYear, short version, without century --\t18\t\n",
    "* %Y --\tYear, full version --\t2018\t\n",
    "* %H -- Hour 00-23\t-- 17\t\n",
    "* %I --\tHour 00-12\t-- 05\t\n",
    "* %p --\tAM/PM\t- PM\t\n",
    "* %M --\tMinute 00-59\t--41\t\n",
    "* %S --\tSecond 00-59\t--08\t\n",
    "* %f --\tMicrosecond 000000-999999\t-- 548513\t\n",
    "* %z --\tUTC offset\t--  +0100\t\n",
    "* %Z --\tTimezone\t-- CST\t\n",
    "* %j --\tDay number of year 001-366\t--365\t\n",
    "* %U --\tWeek number of year, Sunday as the first day of week, 00-53\t--52\t\n",
    "* %W --\tWeek number of year, Monday as the first day of week, 00-53\t--52\t\n",
    "* %c --\tLocal version of date and time\tMon Dec 31 17:41:00 --2018\t\n",
    "* %C --\tCentury\t--20\t\n",
    "* %x --\tLocal version of date\t--12/31/ 18\t\n",
    "* %X --\tLocal version of time\t--17:41:00\t\n",
    "* %% --\tA % character\t--%\t\n",
    "* %G --\tISO 8601 year\t--2018\t\n",
    "* %u --\tISO 8601 weekday (1-7)\t--1\t\n",
    "* %V --\tISO 8601 weeknumber (01-53)\t--01"
   ]
  }
 ],
 "metadata": {
  "kernelspec": {
   "display_name": "Python 3",
   "language": "python",
   "name": "python3"
  },
  "language_info": {
   "codemirror_mode": {
    "name": "ipython",
    "version": 3
   },
   "file_extension": ".py",
   "mimetype": "text/x-python",
   "name": "python",
   "nbconvert_exporter": "python",
   "pygments_lexer": "ipython3",
   "version": "3.12.5"
  }
 },
 "nbformat": 4,
 "nbformat_minor": 2
}
