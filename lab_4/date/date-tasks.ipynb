{
 "cells": [
  {
   "cell_type": "code",
   "execution_count": 2,
   "metadata": {},
   "outputs": [
    {
     "name": "stdout",
     "output_type": "stream",
     "text": [
      "Now: 2025-02-18 20:31:57.648333\n",
      "5 days later: 2025-02-23 20:31:57.648333\n"
     ]
    }
   ],
   "source": [
    "#Write a Python program to subtract five days from current date.\n",
    "from datetime import datetime, timedelta\n",
    "\n",
    "now = datetime.now()  # Current date and time\n",
    "print(\"Now:\", now)\n",
    "\n",
    "# Add 10 days\n",
    "future_date = now + timedelta(days=5)\n",
    "print(\"5 days later:\", future_date)\n",
    "\n"
   ]
  },
  {
   "cell_type": "code",
   "execution_count": 4,
   "metadata": {},
   "outputs": [
    {
     "name": "stdout",
     "output_type": "stream",
     "text": [
      "2025-02-17 20:31:57.648333\n",
      "2025-02-18 20:34:48.474900\n",
      "2025-02-19 20:31:57.648333\n"
     ]
    }
   ],
   "source": [
    "#Write a Python program to print yesterday, today, tomorrow.\n",
    "import datetime \n",
    "\n",
    "today=datetime.datetime.now()\n",
    "yesterday = now - timedelta(days=1)\n",
    "tomorrow = now + timedelta(days=1)\n",
    "\n",
    "\n",
    "print(yesterday)\n",
    "print(today)\n",
    "print(tomorrow)\n"
   ]
  },
  {
   "cell_type": "code",
   "execution_count": 6,
   "metadata": {},
   "outputs": [
    {
     "name": "stdout",
     "output_type": "stream",
     "text": [
      "2025-02-18 20:37:03\n"
     ]
    }
   ],
   "source": [
    "#Write a Python program to drop microseconds from datetime.'\n",
    "import datetime\n",
    "x=datetime.datetime.now()\n",
    "print(x.strftime(\"%Y-%m-%d %X\"))\n"
   ]
  },
  {
   "cell_type": "code",
   "execution_count": null,
   "metadata": {},
   "outputs": [
    {
     "name": "stdout",
     "output_type": "stream",
     "text": [
      "20\n"
     ]
    }
   ],
   "source": [
    "#Write a Python program to calculate two date difference in seconds.\n",
    "from datetime import datetime\n",
    "\n",
    "date1_str = input(\"first date (YYYY-MM-DD HH:MM:SS): \")\n",
    "date2_str = input(\"second date (YYYY-MM-DD HH:MM:SS): \")\n",
    "\n",
    "# 使用 strptime() 将字符串转换为 datetime 对象\n",
    "date1 = datetime.strptime(date1_str, \"%Y-%m-%d %H:%M:%S\")\n",
    "date2 = datetime.strptime(date2_str, \"%Y-%m-%d %H:%M:%S\")\n",
    "\n",
    "\n",
    "result = abs((date2 - date1).total_seconds())\n",
    "\n",
    "print(int(result))\n"
   ]
  }
 ],
 "metadata": {
  "kernelspec": {
   "display_name": "Python 3",
   "language": "python",
   "name": "python3"
  },
  "language_info": {
   "codemirror_mode": {
    "name": "ipython",
    "version": 3
   },
   "file_extension": ".py",
   "mimetype": "text/x-python",
   "name": "python",
   "nbconvert_exporter": "python",
   "pygments_lexer": "ipython3",
   "version": "3.12.5"
  }
 },
 "nbformat": 4,
 "nbformat_minor": 2
}
