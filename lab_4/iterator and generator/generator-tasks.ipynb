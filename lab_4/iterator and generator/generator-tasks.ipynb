{
 "cells": [
  {
   "cell_type": "code",
   "execution_count": null,
   "metadata": {},
   "outputs": [
    {
     "name": "stdout",
     "output_type": "stream",
     "text": [
      "1\n",
      "4\n",
      "9\n",
      "16\n",
      "25\n",
      "36\n",
      "49\n",
      "64\n",
      "81\n",
      "100\n"
     ]
    }
   ],
   "source": [
    "#Create a generator that generates the squares of numbers up to some number N\n",
    "def square_generator(N):\n",
    "    for num in range(1, N + 1):\n",
    "        yield num ** 2\n",
    "\n",
    "\n",
    "N = 10\n",
    "for square in square_generator(N):\n",
    "    print(square)\n"
   ]
  },
  {
   "cell_type": "code",
   "execution_count": 18,
   "metadata": {},
   "outputs": [
    {
     "name": "stdout",
     "output_type": "stream",
     "text": [
      "0, 2, 4, 6, 8, 10\n"
     ]
    }
   ],
   "source": [
    "# Write a program using generator to print the even numbers between 0 and n in comma separated form where n is input from console.\n",
    "def even_generator(n):\n",
    "    for num in range(0,n+1,2):\n",
    "        yield num\n",
    "       \n",
    "\n",
    "n = int(input(\"Enter a number: \"))\n",
    "print(\", \".join(str(num) for num in even_generator(n)))\n",
    "\n"
   ]
  },
  {
   "cell_type": "code",
   "execution_count": 2,
   "metadata": {},
   "outputs": [
    {
     "name": "stdout",
     "output_type": "stream",
     "text": [
      "0\n",
      "12\n",
      "24\n",
      "36\n",
      "48\n"
     ]
    }
   ],
   "source": [
    "#Define a function with a generator which can iterate the numbers, which are divisible by 3 and 4, between a given range 0 and n.\n",
    "\n",
    "def generator(n):\n",
    "    for num in range(0,n+1):\n",
    "        if num % 3 == 0 and num % 4 == 0:\n",
    "            yield num\n",
    "       \n",
    "N = 50\n",
    "for num in generator(N):\n",
    "    print(num)\n",
    "\n"
   ]
  },
  {
   "cell_type": "code",
   "execution_count": null,
   "metadata": {},
   "outputs": [
    {
     "name": "stdout",
     "output_type": "stream",
     "text": [
      "1\n",
      "4\n",
      "9\n",
      "16\n",
      "25\n"
     ]
    }
   ],
   "source": [
    "#Implement a generator called squares to yield the square of all numbers from (a) to (b). Test it with a \"for\" loop and print each of the yielded values\n",
    "def squares(a, b):\n",
    "    for num in range(a, b + 1):\n",
    "        yield num ** 2  # Yield the square of each number\n",
    "\n",
    "a, b = 1, 5 \n",
    "for square in squares(a, b):\n",
    "    print(square)\n"
   ]
  },
  {
   "cell_type": "code",
   "execution_count": null,
   "metadata": {},
   "outputs": [
    {
     "name": "stdout",
     "output_type": "stream",
     "text": [
      "10\n",
      "9\n",
      "8\n",
      "7\n",
      "6\n",
      "5\n",
      "4\n",
      "3\n",
      "2\n",
      "1\n",
      "0\n"
     ]
    },
    {
     "ename": "StopIteration",
     "evalue": "",
     "output_type": "error",
     "traceback": [
      "\u001b[1;31m---------------------------------------------------------------------------\u001b[0m",
      "\u001b[1;31mStopIteration\u001b[0m                             Traceback (most recent call last)",
      "Cell \u001b[1;32mIn[14], line 13\u001b[0m\n\u001b[0;32m     11\u001b[0m     \u001b[38;5;28mprint\u001b[39m(i)\n\u001b[0;32m     12\u001b[0m     list_1\u001b[38;5;241m.\u001b[39mappend(i)\n\u001b[1;32m---> 13\u001b[0m \u001b[38;5;28;43mnext\u001b[39;49m\u001b[43m(\u001b[49m\u001b[43mgen_2\u001b[49m\u001b[43m)\u001b[49m\n",
      "\u001b[1;31mStopIteration\u001b[0m: "
     ]
    }
   ],
   "source": [
    "##Implement a generator that returns all numbers from (n) down to 0\n",
    "def decrease_denerator(n):\n",
    "    while(n >= 0):\n",
    "        yield n\n",
    "        n-=1\n",
    "\n",
    "gen_2 = decrease_denerator(10)\n",
    "list_1=[]\n",
    "for i in gen_2:\n",
    "    if i < -100:\n",
    "        break\n",
    "    print(i)\n",
    "    list_1.append(i)\n",
    "next(gen_2)"
   ]
  },
  {
   "cell_type": "code",
   "execution_count": null,
   "metadata": {},
   "outputs": [
    {
     "name": "stdout",
     "output_type": "stream",
     "text": [
      "5\n",
      "4\n",
      "3\n",
      "2\n",
      "1\n",
      "0\n"
     ]
    }
   ],
   "source": [
    "##Implement a generator that returns all numbers from (n) down to 0\n",
    "\n",
    "def decrease_generator(n):\n",
    "    for num in range(n,-1,-1):\n",
    "         yield num\n",
    "       \n",
    "N = 5\n",
    "for num in decrease_generator(N):\n",
    "    print(num)\n",
    "\n"
   ]
  }
 ],
 "metadata": {
  "kernelspec": {
   "display_name": "Python 3",
   "language": "python",
   "name": "python3"
  },
  "language_info": {
   "codemirror_mode": {
    "name": "ipython",
    "version": 3
   },
   "file_extension": ".py",
   "mimetype": "text/x-python",
   "name": "python",
   "nbconvert_exporter": "python",
   "pygments_lexer": "ipython3",
   "version": "3.12.5"
  }
 },
 "nbformat": 4,
 "nbformat_minor": 2
}
