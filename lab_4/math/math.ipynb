{
 "cells": [
  {
   "cell_type": "markdown",
   "metadata": {},
   "source": [
    "## math"
   ]
  },
  {
   "cell_type": "markdown",
   "metadata": {
    "vscode": {
     "languageId": "plaintext"
    }
   },
   "source": [
    "#### 1. min() and max()"
   ]
  },
  {
   "cell_type": "code",
   "execution_count": 1,
   "metadata": {},
   "outputs": [
    {
     "name": "stdout",
     "output_type": "stream",
     "text": [
      "5\n",
      "25\n"
     ]
    }
   ],
   "source": [
    "x = min(5, 10, 25)\n",
    "y = max(5, 10, 25)\n",
    "\n",
    "print(x)\n",
    "print(y)"
   ]
  },
  {
   "cell_type": "markdown",
   "metadata": {},
   "source": [
    "#### 2. abs()"
   ]
  },
  {
   "cell_type": "code",
   "execution_count": 3,
   "metadata": {},
   "outputs": [
    {
     "name": "stdout",
     "output_type": "stream",
     "text": [
      "90\n"
     ]
    }
   ],
   "source": [
    "x=abs(-90)\n",
    "print(x)"
   ]
  },
  {
   "cell_type": "code",
   "execution_count": 4,
   "metadata": {},
   "outputs": [
    {
     "name": "stdout",
     "output_type": "stream",
     "text": [
      "90\n"
     ]
    }
   ],
   "source": [
    "x=-90\n",
    "print(abs(x))"
   ]
  },
  {
   "cell_type": "markdown",
   "metadata": {},
   "source": [
    "#### 3.pow(x,y) = x^y"
   ]
  },
  {
   "cell_type": "code",
   "execution_count": 6,
   "metadata": {},
   "outputs": [
    {
     "name": "stdout",
     "output_type": "stream",
     "text": [
      "64\n"
     ]
    }
   ],
   "source": [
    "x=pow(4,3)\n",
    "print(x)"
   ]
  },
  {
   "cell_type": "markdown",
   "metadata": {},
   "source": [
    "### 4.the Math Module"
   ]
  },
  {
   "cell_type": "code",
   "execution_count": 9,
   "metadata": {},
   "outputs": [
    {
     "name": "stdout",
     "output_type": "stream",
     "text": [
      "4.0\n"
     ]
    }
   ],
   "source": [
    "import math\n",
    "x=math.sqrt(16)\n",
    "print(x)"
   ]
  },
  {
   "cell_type": "markdown",
   "metadata": {},
   "source": [
    "#### 4.1 math.ceil() and math.floor()\n",
    "* The math.ceil() method rounds a number upwards to its nearest integer, and the math.\n",
    "* floor() method rounds a number downwards to its nearest integer, and returns the result:"
   ]
  },
  {
   "cell_type": "code",
   "execution_count": 10,
   "metadata": {},
   "outputs": [
    {
     "name": "stdout",
     "output_type": "stream",
     "text": [
      "2\n",
      "1\n"
     ]
    }
   ],
   "source": [
    "import math\n",
    "\n",
    "x = math.ceil(1.4)\n",
    "y = math.floor(1.4)\n",
    "\n",
    "print(x) # returns 2\n",
    "print(y) # returns 1"
   ]
  },
  {
   "cell_type": "markdown",
   "metadata": {},
   "source": [
    "#### 4.2 math.pi()---returns the value of PI(3.1415926....)"
   ]
  },
  {
   "cell_type": "code",
   "execution_count": 12,
   "metadata": {},
   "outputs": [
    {
     "name": "stdout",
     "output_type": "stream",
     "text": [
      "3.141592653589793\n"
     ]
    }
   ],
   "source": [
    "import math\n",
    "x=math.pi\n",
    "print(x)"
   ]
  },
  {
   "cell_type": "code",
   "execution_count": null,
   "metadata": {},
   "outputs": [],
   "source": [
    "'''\n",
    "Method\tDescription\n",
    "math.acos()\t--- Returns the arc cosine of a number\n",
    "math.acosh()--- Returns the inverse hyperbolic cosine of a number\n",
    "math.asin()\t--- Returns the arc sine of a number\n",
    "math.asinh()---\tReturns the inverse hyperbolic sine of a number\n",
    "math.atan()\t--- Returns the arc tangent of a number in radians\n",
    "math.atan2()---\tReturns the arc tangent of y/x in radians\n",
    "math.atanh()---\tReturns the inverse hyperbolic tangent of a number\n",
    "math.ceil()\t--- Rounds a number up to the nearest integer\n",
    "math.comb()\t--- Returns the number of ways to choose k items from n items without repetition and order\n",
    "math.copysign()\t--- Returns a float consisting of the value of the first parameter and the sign of the second parameter\n",
    "math.cos()\t--- Returns the cosine of a number\n",
    "math.cosh()\t--- Returns the hyperbolic cosine of a number\n",
    "math.degrees()\t--- Converts an angle from radians to degrees\n",
    "math.dist()\t--- Returns the Euclidean distance between two points (p and q), where p and q are the coordinates of that point\n",
    "math.erf()\t--- Returns the error function of a number\n",
    "math.erfc()\t--- Returns the complementary error function of a number\n",
    "math.exp()\t--- Returns E raised to the power of x\n",
    "math.expm1()\tReturns Ex - 1\n",
    "math.fabs()\tReturns the absolute value of a number\n",
    "math.factorial()\tReturns the factorial of a number\n",
    "math.floor()\tRounds a number down to the nearest integer\n",
    "math.fmod()\tReturns the remainder of x/y\n",
    "math.frexp()\tReturns the mantissa and the exponent, of a specified number\n",
    "math.fsum()\tReturns the sum of all items in any iterable (tuples, arrays, lists, etc.)\n",
    "math.gamma()\tReturns the gamma function at x\n",
    "math.gcd()\tReturns the greatest common divisor of two integers\n",
    "math.hypot()\tReturns the Euclidean norm\n",
    "math.isclose()\tChecks whether two values are close to each other, or not\n",
    "math.isfinite()\tChecks whether a number is finite or not\n",
    "math.isinf()\tChecks whether a number is infinite or not\n",
    "math.isnan()\tChecks whether a value is NaN (not a number) or not\n",
    "math.isqrt()\tRounds a square root number downwards to the nearest integer\n",
    "math.ldexp()\tReturns the inverse of math.frexp() which is x * (2**i) of the given numbers x and i\n",
    "math.lgamma()\tReturns the log gamma value of x\n",
    "math.log()\tReturns the natural logarithm of a number, or the logarithm of number to base\n",
    "math.log10()\tReturns the base-10 logarithm of x\n",
    "math.log1p()\tReturns the natural logarithm of 1+x\n",
    "math.log2()\tReturns the base-2 logarithm of x\n",
    "math.perm()\tReturns the number of ways to choose k items from n items with order and without repetition\n",
    "math.pow()\tReturns the value of x to the power of y\n",
    "math.prod()\tReturns the product of all the elements in an iterable\n",
    "math.radians()\tConverts a degree value into radians\n",
    "math.remainder()\tReturns the closest value that can make numerator completely divisible by the denominator\n",
    "math.sin()\tReturns the sine of a number\n",
    "math.sinh()\tReturns the hyperbolic sine of a number\n",
    "math.sqrt()\tReturns the square root of a number\n",
    "math.tan()\tReturns the tangent of a number\n",
    "math.tanh()\tReturns the hyperbolic tangent of a number\n",
    "math.trunc()\tReturns the truncated integer parts of a number\n",
    "\n",
    "Math Constants\n",
    "Constant\tDescription\n",
    "math.e\tReturns Euler's number (2.7182...)\n",
    "math.inf\tReturns a floating-point positive infinity\n",
    "math.nan\tReturns a floating-point NaN (Not a Number) value\n",
    "math.pi\tReturns PI (3.1415...)\n",
    "math.tau\tReturns tau (6.2831...)\n",
    "'''"
   ]
  }
 ],
 "metadata": {
  "kernelspec": {
   "display_name": "Python 3",
   "language": "python",
   "name": "python3"
  },
  "language_info": {
   "codemirror_mode": {
    "name": "ipython",
    "version": 3
   },
   "file_extension": ".py",
   "mimetype": "text/x-python",
   "name": "python",
   "nbconvert_exporter": "python",
   "pygments_lexer": "ipython3",
   "version": "3.12.5"
  }
 },
 "nbformat": 4,
 "nbformat_minor": 2
}
