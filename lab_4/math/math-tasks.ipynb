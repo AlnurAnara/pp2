{
 "cells": [
  {
   "cell_type": "code",
   "execution_count": 7,
   "metadata": {},
   "outputs": [
    {
     "name": "stdout",
     "output_type": "stream",
     "text": [
      " 0.261799 \n"
     ]
    }
   ],
   "source": [
    "#Write a Python program to convert degree to radian.\n",
    "import math\n",
    "x= math.radians(15)\n",
    "result = f\" {x:.6f} \"\n",
    "print (result)"
   ]
  },
  {
   "cell_type": "code",
   "execution_count": 4,
   "metadata": {},
   "outputs": [
    {
     "name": "stdout",
     "output_type": "stream",
     "text": [
      "Expected output:27.5\n"
     ]
    }
   ],
   "source": [
    "#Write a Python program to calculate the area of a trapezoid.\n",
    "x = float(input(\"Height: \"))\n",
    "y = float(input(\"Base,first value: \"))\n",
    "z = float(input(\"Base,second value: \"))\n",
    "result = (y + z )* x /2\n",
    "print(f\"Expected output:{result}\")"
   ]
  },
  {
   "cell_type": "code",
   "execution_count": 8,
   "metadata": {},
   "outputs": [
    {
     "name": "stdout",
     "output_type": "stream",
     "text": [
      "The area of the polygon is:625\n"
     ]
    }
   ],
   "source": [
    "#Write a Python program to calculate the area of regular polygon\n",
    "import math\n",
    "x=int(input(\"Input number of sides: \"))\n",
    "y=int(input(\"Input the length of a side: \"))\n",
    "pi=math.pi\n",
    "tan=math.tan(pi/x)\n",
    "result = (x* y**2) / (4 * tan)\n",
    "print(f\"The area of the polygon is:{result:.0f}\")"
   ]
  },
  {
   "cell_type": "code",
   "execution_count": 9,
   "metadata": {},
   "outputs": [
    {
     "name": "stdout",
     "output_type": "stream",
     "text": [
      "Expected Output: 30.0\n"
     ]
    }
   ],
   "source": [
    "#Write a Python program to calculate the area of a parallelogram.\n",
    "length = int(input(\"Length of base: \"))\n",
    "height = int(input(\"Height of parallelogram\"))\n",
    "result = length * height\n",
    "print(f\"Expected Output: {result:.1f}\")"
   ]
  }
 ],
 "metadata": {
  "kernelspec": {
   "display_name": "Python 3",
   "language": "python",
   "name": "python3"
  },
  "language_info": {
   "codemirror_mode": {
    "name": "ipython",
    "version": 3
   },
   "file_extension": ".py",
   "mimetype": "text/x-python",
   "name": "python",
   "nbconvert_exporter": "python",
   "pygments_lexer": "ipython3",
   "version": "3.12.5"
  }
 },
 "nbformat": 4,
 "nbformat_minor": 2
}
